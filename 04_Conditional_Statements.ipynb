{
  "nbformat": 4,
  "nbformat_minor": 0,
  "metadata": {
    "colab": {
      "name": "04_Conditional_Statements.ipynb",
      "provenance": [],
      "collapsed_sections": []
    },
    "kernelspec": {
      "name": "python3",
      "display_name": "Python 3"
    },
    "accelerator": "GPU"
  },
  "cells": [
    {
      "cell_type": "markdown",
      "metadata": {
        "id": "tyPG2udrtBHK"
      },
      "source": [
        "# Conditional Statements\r\n",
        "1. 'if' statement\r\n",
        "\r\n",
        "#1. 'if' statement\r\n",
        "* An 'if' statement starts with the 'if' keyword, followed by the condition to be checked and then a colon.\r\n",
        "* Indentation (tab, 4 spaces) is used to show the block of the code and no braces used in python.\r\n",
        "* Operator like ==, !=, <, >, <=, >=, or, and , not can be used."
      ]
    },
    {
      "cell_type": "code",
      "metadata": {
        "id": "xKYAD0O5tANp",
        "colab": {
          "base_uri": "https://localhost:8080/"
        },
        "outputId": "ba3949c4-14b0-4142-81d3-de0c83366b58"
      },
      "source": [
        "a = 10\r\n",
        "b = 300\r\n",
        "if a < b:\r\n",
        "  print(\"a = {} is smaller\".format(a))\r\n"
      ],
      "execution_count": 1,
      "outputs": [
        {
          "output_type": "stream",
          "text": [
            "a = 10 is smaller\n"
          ],
          "name": "stdout"
        }
      ]
    },
    {
      "cell_type": "code",
      "metadata": {
        "colab": {
          "base_uri": "https://localhost:8080/"
        },
        "id": "vL0Dbx3QNffc",
        "outputId": "ee43d7d1-c829-4097-f3b0-e8e65f428f67"
      },
      "source": [
        "n = 101\r\n",
        "if n % 2 == 0:\r\n",
        "  print(\"Number {} is even\".format(n))\r\n",
        "else:\r\n",
        "  print(\"Number {} is odd\".format(n))\r\n"
      ],
      "execution_count": 3,
      "outputs": [
        {
          "output_type": "stream",
          "text": [
            "Number 101 is odd\n"
          ],
          "name": "stdout"
        }
      ]
    },
    {
      "cell_type": "code",
      "metadata": {
        "colab": {
          "base_uri": "https://localhost:8080/"
        },
        "id": "knCjLVZLN52p",
        "outputId": "ba8014b2-343b-459d-d3cb-067fe341e0f4"
      },
      "source": [
        "season = 'winter'\r\n",
        "\r\n",
        "if season == 'spring':\r\n",
        "  print(\"Season is {}\".format(season))\r\n",
        "  print(\"plant the garden!\")\r\n",
        "elif season == 'summer':\r\n",
        "  print(\"Season is {}\".format(season))\r\n",
        "  print(\"water the garden!\")\r\n",
        "elif season == 'fall':\r\n",
        "  print(\"Season is {}\".format(season))\r\n",
        "  print(\"harvest the garden!\")\r\n",
        "elif season == 'winter':\r\n",
        "  print(\"Season is {}\".format(season))\r\n",
        "  print(\"stay indoor!\")\r\n",
        "else:\r\n",
        "  print('unrecognized season')\r\n",
        "\r\n"
      ],
      "execution_count": 6,
      "outputs": [
        {
          "output_type": "stream",
          "text": [
            "Season is winter\n",
            "stay indoor!\n"
          ],
          "name": "stdout"
        }
      ]
    },
    {
      "cell_type": "code",
      "metadata": {
        "id": "9fL9BAUxOzwt"
      },
      "source": [
        "weight = 15\r\n",
        "height = 164\r\n",
        "\r\n",
        "if 18.5 <= weight/height**2 < 25:\r\n",
        "  print(\"BMI is considered 'normal'\")\r\n",
        "\r\n",
        "if is_raining and is_sunny:\r\n",
        "  print(\"Is there a rainbow?\")\r\n",
        "\r\n",
        "if (not unsubscribed) and (location ==\"USA\" or location == \"CAN\") :\r\n",
        "  print(\"send email\")\r\n",
        "  "
      ],
      "execution_count": 9,
      "outputs": []
    },
    {
      "cell_type": "code",
      "metadata": {
        "id": "c9K_prlxUxwS"
      },
      "source": [
        ""
      ],
      "execution_count": null,
      "outputs": []
    }
  ]
}