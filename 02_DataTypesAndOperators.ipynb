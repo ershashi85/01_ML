{
  "nbformat": 4,
  "nbformat_minor": 0,
  "metadata": {
    "colab": {
      "name": "02_DataTypesAndOperators.ipynb",
      "provenance": [],
      "collapsed_sections": []
    },
    "kernelspec": {
      "name": "python3",
      "display_name": "Python 3"
    },
    "accelerator": "GPU"
  },
  "cells": [
    {
      "cell_type": "markdown",
      "metadata": {
        "id": "sd2o-z0OCeoo"
      },
      "source": [
        "# Variable and Assignment Operators\r\n",
        "\r\n",
        "\r\n",
        "*   Variable hold the value which is assigned on the right after the assignment operator.\r\n",
        "*   Support multiple assignment at once.\r\n",
        "*   Prefer to use all lower case letter seprated by underscore for naming variable. e.g. my_first_variable\r\n",
        "*  '=' : assignment operator\r\n",
        "*  '+=' : Add left side variable value with the new operand in right and assign back to the variable on the left.\r\n",
        "*   '-=' : Subtract left side variable value with the new operand in right and assign back to the variable on the left.\r\n",
        "# Data Types\r\n",
        "1. int\r\n",
        "2. float\r\n",
        "3. bool\r\n",
        "4. string\r\n",
        "\r\n",
        "\r\n",
        "*   Int : number without decimal point are integer. Any variable type can be converted to integer using int() class and values after the decimal will be truncated without round off.\r\n",
        "*   Float: any variable value having decimal point at the end is float number. Calc using mix variable type of int and float will result into float varaible.\r\n",
        "*   type(): inbuilt function to check the type of variable.\r\n",
        "*   bool : values of True or False\r\n",
        "*   Comparison Operator : >, <, <=, >=, ==, != \r\n",
        "*   Logical Operator : and, or, not\r\n",
        "*   Strings: text created in single' or double \" quotes. \r\n",
        "> If string contains quotes than use '\\' backslash to tell python that quote is a part of the string\r\n",
        "> 2 string can be added using '+' operator.\r\n",
        "> '*' operator can be used to repeat the string.\r\n",
        ">\r\n",
        "> len() is an inbuild function return the number of character or mainly the length of the string. It only works on a \"sequence (such as a string, bytes, tuple, list or range) or a collection (such as a dictionary, set, or frozen set).\r\n",
        "\r\n",
        "* Type conversion is possible for the data type using inbuilt function like int(), float(), str(), bool()\r\n",
        "\r\n",
        "# String Method\r\n",
        "*   Method are the functions that belong to an object. Methods are called using dot notation.  e.g. <string>.title(), <string>.islower(), <string>.count(arg).\r\n",
        "*   method function receive the <string> as a first argument and also could pass additional arguments in the parentheses.\r\n",
        "*   format() method is very commonly used string method. The number of pairs of curly braces{} used inside the string is the same as the number of replacements you want to make using the values inside format().\r\n",
        "\r\n",
        "\r\n",
        "\r\n",
        "\r\n",
        "\r\n",
        "\r\n",
        "\r\n",
        "\r\n",
        "\r\n",
        "\r\n",
        "\r\n",
        "\r\n",
        "\r\n",
        "\r\n",
        "\r\n"
      ]
    },
    {
      "cell_type": "code",
      "metadata": {
        "colab": {
          "base_uri": "https://localhost:8080/"
        },
        "id": "tY-Jn9FcCDq1",
        "outputId": "16421294-3655-46a1-d45b-726bfb1f71f0"
      },
      "source": [
        "var_x = 1234\r\n",
        "print(var_x)"
      ],
      "execution_count": null,
      "outputs": [
        {
          "output_type": "stream",
          "text": [
            "1234\n"
          ],
          "name": "stdout"
        }
      ]
    },
    {
      "cell_type": "code",
      "metadata": {
        "colab": {
          "base_uri": "https://localhost:8080/"
        },
        "id": "sKpi8QViDheV",
        "outputId": "f3a4a50d-7d0d-4c26-9553-56617d14da77"
      },
      "source": [
        "x = 2\r\n",
        "y = 5\r\n",
        "z = 8\r\n",
        "print(x,y,z)\r\n"
      ],
      "execution_count": null,
      "outputs": [
        {
          "output_type": "stream",
          "text": [
            "2 5 8\n"
          ],
          "name": "stdout"
        }
      ]
    },
    {
      "cell_type": "code",
      "metadata": {
        "colab": {
          "base_uri": "https://localhost:8080/"
        },
        "id": "br-fg0IDDvRR",
        "outputId": "3baf41a2-c7f0-4cdb-ba7f-b23540e936c4"
      },
      "source": [
        "x,y,z = 2,5,8\r\n",
        "print(x,y,z)"
      ],
      "execution_count": null,
      "outputs": [
        {
          "output_type": "stream",
          "text": [
            "2 5 8\n"
          ],
          "name": "stdout"
        }
      ]
    },
    {
      "cell_type": "code",
      "metadata": {
        "colab": {
          "base_uri": "https://localhost:8080/"
        },
        "id": "v5TaChNeD1FB",
        "outputId": "55b7a94c-bb8d-4c86-8a36-2517f9cbfd1a"
      },
      "source": [
        "x += 55\r\n",
        "print(x)"
      ],
      "execution_count": null,
      "outputs": [
        {
          "output_type": "stream",
          "text": [
            "57\n"
          ],
          "name": "stdout"
        }
      ]
    },
    {
      "cell_type": "code",
      "metadata": {
        "colab": {
          "base_uri": "https://localhost:8080/"
        },
        "id": "JNI-hCF6FiCt",
        "outputId": "ad845234-3f75-4573-ab59-0d0f1453d5d8"
      },
      "source": [
        "x -= 1\r\n",
        "print(x)"
      ],
      "execution_count": null,
      "outputs": [
        {
          "output_type": "stream",
          "text": [
            "56\n"
          ],
          "name": "stdout"
        }
      ]
    },
    {
      "cell_type": "code",
      "metadata": {
        "id": "xzMZTQtAFssp",
        "colab": {
          "base_uri": "https://localhost:8080/"
        },
        "outputId": "46e7c939-e2a8-4189-c886-7e627e660e6b"
      },
      "source": [
        "speed_of_light = 3e8  \r\n",
        "print(speed_of_light) "
      ],
      "execution_count": null,
      "outputs": [
        {
          "output_type": "stream",
          "text": [
            "300000000.0\n"
          ],
          "name": "stdout"
        }
      ]
    },
    {
      "cell_type": "code",
      "metadata": {
        "colab": {
          "base_uri": "https://localhost:8080/"
        },
        "id": "3n8wV61MMB7T",
        "outputId": "d8b5f447-1234-4b38-d574-0206fbb5087b"
      },
      "source": [
        "#float \r\n",
        "y = 2.\r\n",
        "print(type(y))"
      ],
      "execution_count": null,
      "outputs": [
        {
          "output_type": "stream",
          "text": [
            "<class 'float'>\n"
          ],
          "name": "stdout"
        }
      ]
    },
    {
      "cell_type": "code",
      "metadata": {
        "colab": {
          "base_uri": "https://localhost:8080/"
        },
        "id": "jwxBQOVIMKeM",
        "outputId": "2a5ebd92-008a-4e4a-fc34-c52e3efa08bc"
      },
      "source": [
        "y = 2\r\n",
        "print(type(y))"
      ],
      "execution_count": null,
      "outputs": [
        {
          "output_type": "stream",
          "text": [
            "<class 'int'>\n"
          ],
          "name": "stdout"
        }
      ]
    },
    {
      "cell_type": "code",
      "metadata": {
        "colab": {
          "base_uri": "https://localhost:8080/"
        },
        "id": "dWUhDQ0zMNgU",
        "outputId": "610417e7-63f9-484e-9f20-8c2e580dc4a9"
      },
      "source": [
        "y = 2.7\r\n",
        "y = int(y)\r\n",
        "print(y)"
      ],
      "execution_count": null,
      "outputs": [
        {
          "output_type": "stream",
          "text": [
            "2\n"
          ],
          "name": "stdout"
        }
      ]
    },
    {
      "cell_type": "code",
      "metadata": {
        "colab": {
          "base_uri": "https://localhost:8080/"
        },
        "id": "WgtjFvcCMTHd",
        "outputId": "98231dab-d9f1-4b56-cc3f-409ca26cb487"
      },
      "source": [
        "age = 14\r\n",
        "teen = age > 12 and age < 20\r\n",
        "print(teen)"
      ],
      "execution_count": null,
      "outputs": [
        {
          "output_type": "stream",
          "text": [
            "True\n"
          ],
          "name": "stdout"
        }
      ]
    },
    {
      "cell_type": "code",
      "metadata": {
        "colab": {
          "base_uri": "https://localhost:8080/"
        },
        "id": "nxWKFf76QLS4",
        "outputId": "d3a49d60-d4bf-4135-b396-ec36d954c2bc"
      },
      "source": [
        "age = 14\r\n",
        "not_teen = not(age > 12 and age < 20)\r\n",
        "print(not_teen)"
      ],
      "execution_count": null,
      "outputs": [
        {
          "output_type": "stream",
          "text": [
            "False\n"
          ],
          "name": "stdout"
        }
      ]
    },
    {
      "cell_type": "code",
      "metadata": {
        "colab": {
          "base_uri": "https://localhost:8080/"
        },
        "id": "zk1iz126QR_t",
        "outputId": "425ecd10-af02-4bf9-8822-569f47804a66"
      },
      "source": [
        "print(\"Hi, \\\"Hello World\\\"\")"
      ],
      "execution_count": null,
      "outputs": [
        {
          "output_type": "stream",
          "text": [
            "Hi, \"Hello World\"\n"
          ],
          "name": "stdout"
        }
      ]
    },
    {
      "cell_type": "code",
      "metadata": {
        "colab": {
          "base_uri": "https://localhost:8080/"
        },
        "id": "Y6MlAxZASMto",
        "outputId": "fadc8aff-1b73-4351-d02c-662ae2f36674"
      },
      "source": [
        "str_temp = \"Hello\" + \" \" + \"World\"\r\n",
        "print(str_temp)"
      ],
      "execution_count": null,
      "outputs": [
        {
          "output_type": "stream",
          "text": [
            "Hello World\n"
          ],
          "name": "stdout"
        }
      ]
    },
    {
      "cell_type": "code",
      "metadata": {
        "colab": {
          "base_uri": "https://localhost:8080/"
        },
        "id": "nVrqoYpYSqZ5",
        "outputId": "b52625a8-0f00-47eb-9fd2-13292b8a0671"
      },
      "source": [
        "str_temp = \"Hello \" * 2\r\n",
        "print(str_temp) "
      ],
      "execution_count": null,
      "outputs": [
        {
          "output_type": "stream",
          "text": [
            "Hello Hello \n"
          ],
          "name": "stdout"
        }
      ]
    },
    {
      "cell_type": "code",
      "metadata": {
        "colab": {
          "base_uri": "https://localhost:8080/"
        },
        "id": "Cnw-kqXnS0E-",
        "outputId": "d22e04bf-cc2b-4958-c5a5-25d9ac4266a3"
      },
      "source": [
        "print(len(str_temp))"
      ],
      "execution_count": null,
      "outputs": [
        {
          "output_type": "stream",
          "text": [
            "12\n"
          ],
          "name": "stdout"
        }
      ]
    },
    {
      "cell_type": "code",
      "metadata": {
        "id": "ibvlX9jrTgsn",
        "colab": {
          "base_uri": "https://localhost:8080/"
        },
        "outputId": "5b8adefd-b1fa-4681-9fb4-6159dd85afe9"
      },
      "source": [
        "print(bool(234))"
      ],
      "execution_count": 2,
      "outputs": [
        {
          "output_type": "stream",
          "text": [
            "True\n"
          ],
          "name": "stdout"
        }
      ]
    },
    {
      "cell_type": "code",
      "metadata": {
        "id": "chAI504cEgwQ"
      },
      "source": [
        ""
      ],
      "execution_count": null,
      "outputs": []
    }
  ]
}