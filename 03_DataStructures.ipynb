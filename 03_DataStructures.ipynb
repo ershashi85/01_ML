{
  "nbformat": 4,
  "nbformat_minor": 0,
  "metadata": {
    "colab": {
      "name": "03_DataStructures.ipynb",
      "provenance": [],
      "collapsed_sections": []
    },
    "kernelspec": {
      "name": "python3",
      "display_name": "Python 3"
    },
    "accelerator": "GPU"
  },
  "cells": [
    {
      "cell_type": "markdown",
      "metadata": {
        "id": "xQMDR9BEXyzv"
      },
      "source": [
        "#Data Structures\r\n",
        "*   Data structures are containers that organize and group data types together in different ways.\r\n",
        "1. List\r\n",
        "2. Tuples\r\n",
        "3. Sets\r\n",
        "4. Dictionaries and Identity Operators\r\n",
        "\r\n",
        "Explanation below:\r\n",
        "\r\n",
        "#1. List: \r\n",
        "A list is a data structure that is mutable (can be modified) ordered sequence of elements. It define using square bracet '[]' and elements seprated by ','. Index starts from zero '0' (Zero based indexing).\r\n",
        "\r\n",
        "\r\n",
        "* Index starts from zero '0' (Zero based indexing).\r\n",
        "* Reverse side starts from '-1' (index starts from the end).\r\n",
        "* Can contains different datatypes.\r\n",
        "* Mutable so changes made in a list reflects in the other assigned list as well.\r\n",
        "\r\n",
        "\r\n",
        "* Slicing on List or string:\r\n",
        "> Using indexes slice off part of the list. Extracting some part of the list using ':'\r\n",
        "> Lower index (mentioned on the left side of the index) is inclusive and higher index (on the right side) is exclsuive.\r\n",
        "> len() function supports for list and string.\r\n",
        "> List and String both supports membership operators 'in' and 'not in'. 'in' evaluates if object on left side is included in object on the right side.\r\n",
        "\r\n",
        "* USeful functions in List:\r\n",
        "1. len() : return how many elements in the list.\r\n",
        "2. max(): Works for the same datatype element. returns the greatest element of the list. Use comparison '>'.\r\n",
        "3. min(): Opposite of max\r\n",
        "4. sorted(): return a copy of a list in the order from smallest to largest, leaving the list unchanged.\r\n",
        "5. join method: \".join()\" is a string method that takes a list of strings as an argument, and returns a string consisting of the list elements joined by a separator string.\r\n",
        "6. append method: \".append()' is method to adds an element to the end of the list. \r\n",
        "\r\n",
        "#2. Tuples\r\n",
        "* Immutable oredered of sequence. \r\n",
        "* Declared using round bracet'()' or no round bracet.\r\n",
        "* Can not modify the element or no sort possible.\r\n",
        "\r\n",
        "#3. Sets\r\n",
        "* A data type for mutable unordered collection of unique elements.\r\n",
        "* Container of unique elements without any particular ordering and removes duplicates.\r\n",
        "* like append method of list, sets have a add method.\r\n",
        "* supports 'in' method like list.\r\n",
        "* mathematical operation supports like union, intersection, difference\r\n",
        "\r\n",
        "#4. Dictionaries and Indentity operators\r\n",
        "* A Data type of mutable objects that store mapping of unique keys to values.\r\n",
        "* store paits of element like keys and values.\r\n",
        "* keys are unique immutable data type.\r\n",
        "* declared using curly '{}' bracet. and colon ':' to define the key.\r\n",
        "* are useful to add more details for the elements by linking key with values.\r\n",
        "\r\n",
        "\r\n"
      ]
    },
    {
      "cell_type": "code",
      "metadata": {
        "id": "ew0kz9qEXsp7",
        "colab": {
          "base_uri": "https://localhost:8080/"
        },
        "outputId": "655a01c7-9dd1-4ea3-dd8e-8a5891240947"
      },
      "source": [
        "list_ex = [31,2312,43,554,995,66]\r\n",
        "print(list_ex)"
      ],
      "execution_count": null,
      "outputs": [
        {
          "output_type": "stream",
          "text": [
            "[31, 2312, 43, 554, 995, 66]\n"
          ],
          "name": "stdout"
        }
      ]
    },
    {
      "cell_type": "code",
      "metadata": {
        "colab": {
          "base_uri": "https://localhost:8080/"
        },
        "id": "IfU_QfylgakG",
        "outputId": "d87e507c-8bd9-4ead-944a-dfe60226b069"
      },
      "source": [
        "list1 = list_ex[1:3]\r\n",
        "print(list1)"
      ],
      "execution_count": null,
      "outputs": [
        {
          "output_type": "stream",
          "text": [
            "[2312, 43]\n"
          ],
          "name": "stdout"
        }
      ]
    },
    {
      "cell_type": "code",
      "metadata": {
        "colab": {
          "base_uri": "https://localhost:8080/"
        },
        "id": "kCEbppDYgp7n",
        "outputId": "57aa0497-4dd8-47b1-cd74-f467398fdae0"
      },
      "source": [
        "list2 = list_ex[:4]\r\n",
        "print(list2)"
      ],
      "execution_count": null,
      "outputs": [
        {
          "output_type": "stream",
          "text": [
            "[31, 2312, 43, 554]\n"
          ],
          "name": "stdout"
        }
      ]
    },
    {
      "cell_type": "code",
      "metadata": {
        "colab": {
          "base_uri": "https://localhost:8080/"
        },
        "id": "5_1nKeULgzDf",
        "outputId": "0869142c-eb5a-4518-d5a9-e44394c06076"
      },
      "source": [
        "list3 = list_ex[-1]\r\n",
        "print(list3)"
      ],
      "execution_count": null,
      "outputs": [
        {
          "output_type": "stream",
          "text": [
            "66\n"
          ],
          "name": "stdout"
        }
      ]
    },
    {
      "cell_type": "code",
      "metadata": {
        "colab": {
          "base_uri": "https://localhost:8080/"
        },
        "id": "WO53ihT9g8sH",
        "outputId": "b8a8cc31-ce8a-4d9e-fe84-51b9027565f2"
      },
      "source": [
        "list4 = list_ex[-1:-0]\r\n",
        "print(list4)"
      ],
      "execution_count": null,
      "outputs": [
        {
          "output_type": "stream",
          "text": [
            "[]\n"
          ],
          "name": "stdout"
        }
      ]
    },
    {
      "cell_type": "code",
      "metadata": {
        "colab": {
          "base_uri": "https://localhost:8080/"
        },
        "id": "4b8A2jhdhCTY",
        "outputId": "002b9071-307d-425f-a047-8cc3e17ede87"
      },
      "source": [
        "print('World' in \"Hello World\", 'world' not in 'Hello World', 'Orld' in \"Hello World\")"
      ],
      "execution_count": null,
      "outputs": [
        {
          "output_type": "stream",
          "text": [
            "True True False\n"
          ],
          "name": "stdout"
        }
      ]
    },
    {
      "cell_type": "code",
      "metadata": {
        "colab": {
          "base_uri": "https://localhost:8080/"
        },
        "id": "5BfOs0UZjxdg",
        "outputId": "d459700d-5e06-4784-8057-aa36cb5040fd"
      },
      "source": [
        "'this' in 'this is a string'"
      ],
      "execution_count": null,
      "outputs": [
        {
          "output_type": "execute_result",
          "data": {
            "text/plain": [
              "True"
            ]
          },
          "metadata": {
            "tags": []
          },
          "execution_count": 20
        }
      ]
    },
    {
      "cell_type": "code",
      "metadata": {
        "colab": {
          "base_uri": "https://localhost:8080/"
        },
        "id": "i5ZZAjwEkIOn",
        "outputId": "36f7670c-882b-4bfc-b881-ccbe7f25a697"
      },
      "source": [
        "\"this\" in \"this is a string\""
      ],
      "execution_count": null,
      "outputs": [
        {
          "output_type": "execute_result",
          "data": {
            "text/plain": [
              "True"
            ]
          },
          "metadata": {
            "tags": []
          },
          "execution_count": 21
        }
      ]
    },
    {
      "cell_type": "code",
      "metadata": {
        "colab": {
          "base_uri": "https://localhost:8080/"
        },
        "id": "yMnOtA9WkLue",
        "outputId": "c0f17e72-1dda-4525-b4dc-51e189bb4443"
      },
      "source": [
        "'in' in 'this is a string'"
      ],
      "execution_count": null,
      "outputs": [
        {
          "output_type": "execute_result",
          "data": {
            "text/plain": [
              "True"
            ]
          },
          "metadata": {
            "tags": []
          },
          "execution_count": 23
        }
      ]
    },
    {
      "cell_type": "code",
      "metadata": {
        "colab": {
          "base_uri": "https://localhost:8080/"
        },
        "id": "K7j7HtMrkQ-W",
        "outputId": "5df7bcd9-3059-4346-df6a-6b249c237185"
      },
      "source": [
        "'t' in \"this is a string\""
      ],
      "execution_count": null,
      "outputs": [
        {
          "output_type": "execute_result",
          "data": {
            "text/plain": [
              "True"
            ]
          },
          "metadata": {
            "tags": []
          },
          "execution_count": 24
        }
      ]
    },
    {
      "cell_type": "code",
      "metadata": {
        "id": "EXhkuzhvkhP1",
        "colab": {
          "base_uri": "https://localhost:8080/"
        },
        "outputId": "5b18f787-30a0-4483-a65f-8c955a8fd4c8"
      },
      "source": [
        "# String Example of immutable\r\n",
        "str1 = \"Shashi\"\r\n",
        "name = str1\r\n",
        "str1 = \"Bhushan\"\r\n",
        "print(str1)\r\n",
        "print(name)"
      ],
      "execution_count": 1,
      "outputs": [
        {
          "output_type": "stream",
          "text": [
            "Bhushan\n",
            "Shashi\n"
          ],
          "name": "stdout"
        }
      ]
    },
    {
      "cell_type": "code",
      "metadata": {
        "colab": {
          "base_uri": "https://localhost:8080/"
        },
        "id": "9rRq9vdYU0dl",
        "outputId": "8cf755a8-974c-4b2b-ed10-7e07142d8a01"
      },
      "source": [
        "str1 = ['Tim', 'John']\r\n",
        "name = str1\r\n",
        "str1[0] = ['John']\r\n",
        "\r\n",
        "print(str1)\r\n",
        "print(name)"
      ],
      "execution_count": 5,
      "outputs": [
        {
          "output_type": "stream",
          "text": [
            "[['John'], 'John']\n",
            "[['John'], 'John']\n"
          ],
          "name": "stdout"
        }
      ]
    },
    {
      "cell_type": "code",
      "metadata": {
        "colab": {
          "base_uri": "https://localhost:8080/"
        },
        "id": "baVjw1yBVQI7",
        "outputId": "ea59aac4-bf49-438c-dca2-29704599695a"
      },
      "source": [
        "str1 = ['Tim', 'John']\r\n",
        "name = str1\r\n",
        "str1 = ['John', 'Kin']\r\n",
        "\r\n",
        "print(str1)\r\n",
        "print(name)\r\n"
      ],
      "execution_count": 6,
      "outputs": [
        {
          "output_type": "stream",
          "text": [
            "['John', 'Kin']\n",
            "['Tim', 'John']\n"
          ],
          "name": "stdout"
        }
      ]
    },
    {
      "cell_type": "code",
      "metadata": {
        "colab": {
          "base_uri": "https://localhost:8080/"
        },
        "id": "Je-71BDEVhzz",
        "outputId": "8965fbc3-2f6d-4004-d701-c596b04e55da"
      },
      "source": [
        "batch_sizes = [22,54,73,63,67,10]\r\n",
        "print(len(batch_sizes))"
      ],
      "execution_count": 7,
      "outputs": [
        {
          "output_type": "stream",
          "text": [
            "6\n"
          ],
          "name": "stdout"
        }
      ]
    },
    {
      "cell_type": "code",
      "metadata": {
        "colab": {
          "base_uri": "https://localhost:8080/"
        },
        "id": "vj1LeIrmWlAL",
        "outputId": "2f2dd02a-9b0f-443f-8089-c3976cc59505"
      },
      "source": [
        "print(max(batch_sizes))"
      ],
      "execution_count": 9,
      "outputs": [
        {
          "output_type": "stream",
          "text": [
            "73\n"
          ],
          "name": "stdout"
        }
      ]
    },
    {
      "cell_type": "code",
      "metadata": {
        "colab": {
          "base_uri": "https://localhost:8080/"
        },
        "id": "e7ncEN6wWpr5",
        "outputId": "2dd5a251-581f-4acb-a258-69481e612bf6"
      },
      "source": [
        "str_list = ['Sunday','Monday','Z', 'Tuesday','Wednesday']\r\n",
        "print(max(str_list))"
      ],
      "execution_count": 15,
      "outputs": [
        {
          "output_type": "stream",
          "text": [
            "Z\n"
          ],
          "name": "stdout"
        }
      ]
    },
    {
      "cell_type": "code",
      "metadata": {
        "colab": {
          "base_uri": "https://localhost:8080/"
        },
        "id": "3yg067xpW9Pb",
        "outputId": "59fd41b0-9389-4059-a7ff-db2b44d32d7a"
      },
      "source": [
        "print(min(str_list))"
      ],
      "execution_count": 16,
      "outputs": [
        {
          "output_type": "stream",
          "text": [
            "Monday\n"
          ],
          "name": "stdout"
        }
      ]
    },
    {
      "cell_type": "code",
      "metadata": {
        "colab": {
          "base_uri": "https://localhost:8080/"
        },
        "id": "hh9t3vtUXFAJ",
        "outputId": "77865a5a-311b-4baf-a70a-0b14c3fb3ae2"
      },
      "source": [
        "print(len(str_list))"
      ],
      "execution_count": 17,
      "outputs": [
        {
          "output_type": "stream",
          "text": [
            "5\n"
          ],
          "name": "stdout"
        }
      ]
    },
    {
      "cell_type": "code",
      "metadata": {
        "colab": {
          "base_uri": "https://localhost:8080/"
        },
        "id": "H8aJjdLFXJw7",
        "outputId": "64493eb5-3df7-4e45-fcc2-ac9c52c74eaa"
      },
      "source": [
        "print(sorted(str_list))"
      ],
      "execution_count": 18,
      "outputs": [
        {
          "output_type": "stream",
          "text": [
            "['Monday', 'Sunday', 'Tuesday', 'Wednesday', 'Z']\n"
          ],
          "name": "stdout"
        }
      ]
    },
    {
      "cell_type": "code",
      "metadata": {
        "colab": {
          "base_uri": "https://localhost:8080/"
        },
        "id": "Fefnv-8YXPJr",
        "outputId": "2d13bd12-b701-4231-bb08-176951f8c9d1"
      },
      "source": [
        "new_str = '\\n'.join(str_list)\r\n",
        "print(new_str)"
      ],
      "execution_count": 19,
      "outputs": [
        {
          "output_type": "stream",
          "text": [
            "Sunday\n",
            "Monday\n",
            "Z\n",
            "Tuesday\n",
            "Wednesday\n"
          ],
          "name": "stdout"
        }
      ]
    },
    {
      "cell_type": "code",
      "metadata": {
        "colab": {
          "base_uri": "https://localhost:8080/"
        },
        "id": "3EvKm_tXXkBE",
        "outputId": "c8731c01-b884-4a25-b596-ea886bfd9ccd"
      },
      "source": [
        "str_list.append(\"Friday\")\r\n",
        "print(str_list)"
      ],
      "execution_count": 26,
      "outputs": [
        {
          "output_type": "stream",
          "text": [
            "['Sunday', 'Monday', 'Z', 'Tuesday', 'Wednesday', 'Thursday', 'Thursday', 'Friday']\n"
          ],
          "name": "stdout"
        }
      ]
    },
    {
      "cell_type": "code",
      "metadata": {
        "colab": {
          "base_uri": "https://localhost:8080/"
        },
        "id": "1K67G1jEXtVZ",
        "outputId": "f60b9db7-a350-4e7c-9af0-b2f72b6361b0"
      },
      "source": [
        "#Tuples\r\n",
        "tuple_var = (12,33,53)\r\n",
        "print(tuple_var)"
      ],
      "execution_count": 27,
      "outputs": [
        {
          "output_type": "stream",
          "text": [
            "(12, 33, 53)\n"
          ],
          "name": "stdout"
        }
      ]
    },
    {
      "cell_type": "code",
      "metadata": {
        "colab": {
          "base_uri": "https://localhost:8080/"
        },
        "id": "F4J3aBk_bPZt",
        "outputId": "8e12a4e9-afa3-4fb7-da3a-7a0ecea17891"
      },
      "source": [
        "tuple_var = 12, 322,43\r\n",
        "print(tuple_var)"
      ],
      "execution_count": 28,
      "outputs": [
        {
          "output_type": "stream",
          "text": [
            "(12, 322, 43)\n"
          ],
          "name": "stdout"
        }
      ]
    },
    {
      "cell_type": "code",
      "metadata": {
        "colab": {
          "base_uri": "https://localhost:8080/"
        },
        "id": "nyul-eLybU9K",
        "outputId": "a43e2c8b-85b0-4529-8d9a-453d46363890"
      },
      "source": [
        "tuple_var = 12, 'str1',22\r\n",
        "print(tuple_var)"
      ],
      "execution_count": 29,
      "outputs": [
        {
          "output_type": "stream",
          "text": [
            "(12, 'str1', 22)\n"
          ],
          "name": "stdout"
        }
      ]
    },
    {
      "cell_type": "code",
      "metadata": {
        "colab": {
          "base_uri": "https://localhost:8080/",
          "height": 195
        },
        "id": "z-21uNNsbdbZ",
        "outputId": "07c73899-317d-4d0a-8685-d81e6b98c02c"
      },
      "source": [
        "tuple_var = 12, 'str1',22\r\n",
        "tuple_var[1] = 10\r\n",
        "print(tuple_var)"
      ],
      "execution_count": 31,
      "outputs": [
        {
          "output_type": "error",
          "ename": "TypeError",
          "evalue": "ignored",
          "traceback": [
            "\u001b[0;31m---------------------------------------------------------------------------\u001b[0m",
            "\u001b[0;31mTypeError\u001b[0m                                 Traceback (most recent call last)",
            "\u001b[0;32m<ipython-input-31-e09858d2e3bd>\u001b[0m in \u001b[0;36m<module>\u001b[0;34m()\u001b[0m\n\u001b[1;32m      1\u001b[0m \u001b[0mtuple_var\u001b[0m \u001b[0;34m=\u001b[0m \u001b[0;36m12\u001b[0m\u001b[0;34m,\u001b[0m \u001b[0;34m'str1'\u001b[0m\u001b[0;34m,\u001b[0m\u001b[0;36m22\u001b[0m\u001b[0;34m\u001b[0m\u001b[0;34m\u001b[0m\u001b[0m\n\u001b[0;32m----> 2\u001b[0;31m \u001b[0mtuple_var\u001b[0m\u001b[0;34m[\u001b[0m\u001b[0;36m1\u001b[0m\u001b[0;34m]\u001b[0m \u001b[0;34m=\u001b[0m \u001b[0;36m10\u001b[0m\u001b[0;34m\u001b[0m\u001b[0;34m\u001b[0m\u001b[0m\n\u001b[0m\u001b[1;32m      3\u001b[0m \u001b[0mprint\u001b[0m\u001b[0;34m(\u001b[0m\u001b[0mtuple_var\u001b[0m\u001b[0;34m)\u001b[0m\u001b[0;34m\u001b[0m\u001b[0;34m\u001b[0m\u001b[0m\n",
            "\u001b[0;31mTypeError\u001b[0m: 'tuple' object does not support item assignment"
          ]
        }
      ]
    },
    {
      "cell_type": "code",
      "metadata": {
        "colab": {
          "base_uri": "https://localhost:8080/"
        },
        "id": "FlrH0hYobqTa",
        "outputId": "df338b9e-d819-4b87-814d-3745c389264b"
      },
      "source": [
        "# Sets\r\n",
        "countries = [\"India\", \"USA\", \"Srilanka\", \"Germany\", \"Singapore\", \"UK\" , \"India\", \"UK\", \"USA\"]\r\n",
        "countries_set = set(countries)\r\n",
        "print(countries_set)"
      ],
      "execution_count": 32,
      "outputs": [
        {
          "output_type": "stream",
          "text": [
            "{'India', 'UK', 'Singapore', 'Srilanka', 'Germany', 'USA'}\n"
          ],
          "name": "stdout"
        }
      ]
    },
    {
      "cell_type": "code",
      "metadata": {
        "colab": {
          "base_uri": "https://localhost:8080/"
        },
        "id": "ZBdDgWP6iW9j",
        "outputId": "ea6c0b5d-4354-494c-d553-5c727b12ecf4"
      },
      "source": [
        "# Dictionaries\r\n",
        "elements = {'hydrogen':1, 'helium':2, 'carbon':6}\r\n",
        "\r\n",
        "print(elements['carbon'])\r\n",
        "elements['lithium'] = 4\r\n",
        "\r\n",
        "print(elements)\r\n"
      ],
      "execution_count": 34,
      "outputs": [
        {
          "output_type": "stream",
          "text": [
            "6\n",
            "{'hydrogen': 1, 'helium': 2, 'carbon': 6, 'lithium': 4}\n"
          ],
          "name": "stdout"
        }
      ]
    },
    {
      "cell_type": "code",
      "metadata": {
        "colab": {
          "base_uri": "https://localhost:8080/"
        },
        "id": "ny4tnnfMoS4f",
        "outputId": "a0c55057-7166-40cb-f172-07c0647301e2"
      },
      "source": [
        "print('dlithium' in elements)"
      ],
      "execution_count": 35,
      "outputs": [
        {
          "output_type": "stream",
          "text": [
            "False\n"
          ],
          "name": "stdout"
        }
      ]
    },
    {
      "cell_type": "code",
      "metadata": {
        "colab": {
          "base_uri": "https://localhost:8080/"
        },
        "id": "Gr7GGrwao5fO",
        "outputId": "2b1b8e0d-3ca5-445e-f79f-66d3d2672843"
      },
      "source": [
        "print(elements.get('Neon'))"
      ],
      "execution_count": 36,
      "outputs": [
        {
          "output_type": "stream",
          "text": [
            "None\n"
          ],
          "name": "stdout"
        }
      ]
    },
    {
      "cell_type": "code",
      "metadata": {
        "colab": {
          "base_uri": "https://localhost:8080/"
        },
        "id": "tJjB1tc_pEj3",
        "outputId": "7c63f501-fe6f-47b6-e7f0-20cbf06b19d0"
      },
      "source": [
        "a = [1,2,3]\r\n",
        "b = a\r\n",
        "c = [1,2,3]\r\n",
        "\r\n",
        "print(a==b)\r\n",
        "print(a is b)\r\n",
        "print(a ==c)\r\n",
        "print(a is c)"
      ],
      "execution_count": 1,
      "outputs": [
        {
          "output_type": "stream",
          "text": [
            "True\n",
            "True\n",
            "True\n",
            "False\n"
          ],
          "name": "stdout"
        }
      ]
    },
    {
      "cell_type": "code",
      "metadata": {
        "colab": {
          "base_uri": "https://localhost:8080/",
          "height": 212
        },
        "id": "PPOb0NV2hWAU",
        "outputId": "571a01ef-39dd-47db-ecae-f8369576ef28"
      },
      "source": [
        "animals = {'dogs':[20,10,15,8,32,15],\r\n",
        "           'cats':[3,4,2,8,2,4],\r\n",
        "           'rabbits':[2,3,3],\r\n",
        "           'fish':[0.3,0.5,0.8,0.3,1]}\r\n",
        "\r\n",
        "print((animals['dogs'][3]))\r\n",
        "\r\n",
        "print(animals[3])\r\n"
      ],
      "execution_count": 15,
      "outputs": [
        {
          "output_type": "stream",
          "text": [
            "8\n"
          ],
          "name": "stdout"
        },
        {
          "output_type": "error",
          "ename": "KeyError",
          "evalue": "ignored",
          "traceback": [
            "\u001b[0;31m---------------------------------------------------------------------------\u001b[0m",
            "\u001b[0;31mKeyError\u001b[0m                                  Traceback (most recent call last)",
            "\u001b[0;32m<ipython-input-15-13177f5f3641>\u001b[0m in \u001b[0;36m<module>\u001b[0;34m()\u001b[0m\n\u001b[1;32m      6\u001b[0m \u001b[0mprint\u001b[0m\u001b[0;34m(\u001b[0m\u001b[0;34m(\u001b[0m\u001b[0manimals\u001b[0m\u001b[0;34m[\u001b[0m\u001b[0;34m'dogs'\u001b[0m\u001b[0;34m]\u001b[0m\u001b[0;34m[\u001b[0m\u001b[0;36m3\u001b[0m\u001b[0;34m]\u001b[0m\u001b[0;34m)\u001b[0m\u001b[0;34m)\u001b[0m\u001b[0;34m\u001b[0m\u001b[0;34m\u001b[0m\u001b[0m\n\u001b[1;32m      7\u001b[0m \u001b[0;34m\u001b[0m\u001b[0m\n\u001b[0;32m----> 8\u001b[0;31m \u001b[0mprint\u001b[0m\u001b[0;34m(\u001b[0m\u001b[0manimals\u001b[0m\u001b[0;34m[\u001b[0m\u001b[0;36m3\u001b[0m\u001b[0;34m]\u001b[0m\u001b[0;34m)\u001b[0m\u001b[0;34m\u001b[0m\u001b[0;34m\u001b[0m\u001b[0m\n\u001b[0m",
            "\u001b[0;31mKeyError\u001b[0m: 3"
          ]
        }
      ]
    },
    {
      "cell_type": "code",
      "metadata": {
        "colab": {
          "base_uri": "https://localhost:8080/"
        },
        "id": "AEAB9i8Iilta",
        "outputId": "d77f9d75-b56e-4fd4-947b-4f7fb2733f03"
      },
      "source": [
        "verse = \"if you can keep your head when all about you are losing theirs and blaming it on you   if you can trust yourself when all men doubt you     but make allowance for their doubting too   if you can wait and not be tired by waiting      or being lied about  don’t deal in lies   or being hated  don’t give way to hating      and yet don’t look too good  nor talk too wise\"\r\n",
        "print(verse, '\\n')\r\n",
        "\r\n",
        "# split verse into list of words\r\n",
        "verse_list = verse.split()\r\n",
        "print(verse_list, '\\n')\r\n",
        "\r\n",
        "# convert list to a data structure that stores unique elements\r\n",
        "verse_set = set(verse_list)\r\n",
        "print(verse_set, '\\n')\r\n",
        "\r\n",
        "# print the number of unique words\r\n",
        "num_unique = len(verse_set)\r\n",
        "print(num_unique, '\\n')"
      ],
      "execution_count": 18,
      "outputs": [
        {
          "output_type": "stream",
          "text": [
            "if you can keep your head when all about you are losing theirs and blaming it on you   if you can trust yourself when all men doubt you     but make allowance for their doubting too   if you can wait and not be tired by waiting      or being lied about  don’t deal in lies   or being hated  don’t give way to hating      and yet don’t look too good  nor talk too wise \n",
            "\n",
            "['if', 'you', 'can', 'keep', 'your', 'head', 'when', 'all', 'about', 'you', 'are', 'losing', 'theirs', 'and', 'blaming', 'it', 'on', 'you', 'if', 'you', 'can', 'trust', 'yourself', 'when', 'all', 'men', 'doubt', 'you', 'but', 'make', 'allowance', 'for', 'their', 'doubting', 'too', 'if', 'you', 'can', 'wait', 'and', 'not', 'be', 'tired', 'by', 'waiting', 'or', 'being', 'lied', 'about', 'don’t', 'deal', 'in', 'lies', 'or', 'being', 'hated', 'don’t', 'give', 'way', 'to', 'hating', 'and', 'yet', 'don’t', 'look', 'too', 'good', 'nor', 'talk', 'too', 'wise'] \n",
            "\n",
            "{'on', 'your', 'head', 'make', 'yourself', 'can', 'and', 'wait', 'in', 'lies', 'don’t', 'you', 'if', 'look', 'doubting', 'men', 'give', 'to', 'about', 'doubt', 'yet', 'deal', 'not', 'it', 'tired', 'be', 'allowance', 'keep', 'hating', 'theirs', 'by', 'talk', 'losing', 'blaming', 'their', 'way', 'or', 'nor', 'waiting', 'too', 'but', 'hated', 'good', 'wise', 'when', 'for', 'lied', 'trust', 'are', 'all', 'being'} \n",
            "\n",
            "51 \n",
            "\n"
          ],
          "name": "stdout"
        }
      ]
    },
    {
      "cell_type": "code",
      "metadata": {
        "colab": {
          "base_uri": "https://localhost:8080/"
        },
        "id": "W316o1eqqarZ",
        "outputId": "f21861da-d936-400b-cf00-e1358bd29842"
      },
      "source": [
        "verse_dict =  {'if': 3, 'you': 6, 'can': 3, 'keep': 1, 'your': 1, 'head': 1, 'when': 2, 'all': 2, 'about': 2, 'are': 1, 'losing': 1, 'theirs': 1, 'and': 3, 'blaming': 1, 'it': 1, 'on': 1, 'trust': 1, 'yourself': 1, 'men': 1, 'doubt': 1, 'but': 1, 'make': 1, 'allowance': 1, 'for': 1, 'their': 1, 'doubting': 1, 'too': 3, 'wait': 1, 'not': 1, 'be': 1, 'tired': 1, 'by': 1, 'waiting': 1, 'or': 2, 'being': 2, 'lied': 1, 'don\\'t': 3, 'deal': 1, 'in': 1, 'lies': 1, 'hated': 1, 'give': 1, 'way': 1, 'to': 1, 'hating': 1, 'yet': 1, 'look': 1, 'good': 1, 'nor': 1, 'talk': 1, 'wise': 1}\r\n",
        "print(verse_dict, '\\n')\r\n",
        "\r\n",
        "# find number of unique keys in the dictionary\r\n",
        "num_keys = len(verse_dict) \r\n",
        "print(num_keys)\r\n",
        "\r\n",
        "# find whether 'breathe' is a key in the dictionary\r\n",
        "contains_breathe = 'breathe' in verse_dict\r\n",
        "print(contains_breathe)\r\n",
        "\r\n",
        "# create and sort a list of the dictionary's keys\r\n",
        "sorted_keys = sorted(verse_dict.keys())\r\n",
        "\r\n",
        "# get the first element in the sorted list of keys\r\n",
        "print(sorted_keys[0])\r\n",
        "\r\n",
        "# find the element with the highest value in the list of keys\r\n",
        "print(sorted_keys[-1]) "
      ],
      "execution_count": 19,
      "outputs": [
        {
          "output_type": "stream",
          "text": [
            "{'if': 3, 'you': 6, 'can': 3, 'keep': 1, 'your': 1, 'head': 1, 'when': 2, 'all': 2, 'about': 2, 'are': 1, 'losing': 1, 'theirs': 1, 'and': 3, 'blaming': 1, 'it': 1, 'on': 1, 'trust': 1, 'yourself': 1, 'men': 1, 'doubt': 1, 'but': 1, 'make': 1, 'allowance': 1, 'for': 1, 'their': 1, 'doubting': 1, 'too': 3, 'wait': 1, 'not': 1, 'be': 1, 'tired': 1, 'by': 1, 'waiting': 1, 'or': 2, 'being': 2, 'lied': 1, \"don't\": 3, 'deal': 1, 'in': 1, 'lies': 1, 'hated': 1, 'give': 1, 'way': 1, 'to': 1, 'hating': 1, 'yet': 1, 'look': 1, 'good': 1, 'nor': 1, 'talk': 1, 'wise': 1} \n",
            "\n",
            "51\n",
            "False\n",
            "about\n",
            "yourself\n"
          ],
          "name": "stdout"
        }
      ]
    },
    {
      "cell_type": "code",
      "metadata": {
        "id": "JGJTUcpPq30P"
      },
      "source": [
        ""
      ],
      "execution_count": null,
      "outputs": []
    }
  ]
}