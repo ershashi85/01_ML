{
  "nbformat": 4,
  "nbformat_minor": 0,
  "metadata": {
    "colab": {
      "name": "05_Loops.ipynb",
      "provenance": [],
      "collapsed_sections": []
    },
    "kernelspec": {
      "name": "python3",
      "display_name": "Python 3"
    },
    "accelerator": "GPU"
  },
  "cells": [
    {
      "cell_type": "markdown",
      "metadata": {
        "id": "Tq9fVzXkfh9c"
      },
      "source": [
        "# Loops\n",
        "1. 'for' loop\n",
        "2. 'while' loop\n",
        "\n",
        "#1. 'for' loop\n",
        "* used for the defined number of iteration. \n",
        "* keyword is for, used to \"iterate\" or do something repeatedly.\n",
        "* range inbuilt function. range(start=0, stop, step=1)\n",
        "* used for iteration though list, dictionaries.\n",
        "* to iterate through both keys and values (dictionary), inbuild function 'items' can be used.\n",
        "\n",
        "#2 'while' loop\n",
        "* used for indefinite iteration.\n",
        "\n",
        "#3 zip (inbuilt function) \n",
        "* zip returns an iterator that combines multiple iterables into one sequence of tuples. Each tuple contains the elements in that position from all the iterables. \n",
        "* To split the list use *. e.g. zip(*list_name)\n",
        "\n",
        "#4 Enumerate (inbuild function)\n",
        "* enumerate is a built in function that returns an iterator of tuples containing indices and values of a list.\n",
        "\n",
        "#5 List comprehension\n",
        "* List comprehension format allows to create list using for loop inone step. Expression will be a part of the list (for loop, condition checks).\n",
        "\n",
        "\n"
      ]
    },
    {
      "cell_type": "markdown",
      "metadata": {
        "id": "T_5EPTs3cDMv"
      },
      "source": [
        "## Practice Exercise\n"
      ]
    },
    {
      "cell_type": "code",
      "metadata": {
        "colab": {
          "base_uri": "https://localhost:8080/"
        },
        "id": "NLEfuJ0Ab6Ub",
        "outputId": "a0626996-74fc-4299-9ea7-046258659384"
      },
      "source": [
        "# A. Create a dictionary that includes the count of Oscar nominations for each director in the nominations list.\n",
        "\n",
        "# B. Provide a dictionary with the count of Oscar wins for each director in the winners list.\n",
        "\n",
        "\n",
        "nominated = {1931: ['Norman Taurog', 'Wesley Ruggles', 'Clarence Brown', 'Lewis Milestone', 'Josef Von Sternberg'], 1932: ['Frank Borzage', 'King Vidor', 'Josef Von Sternberg'], 1933: ['Frank Lloyd', 'Frank Capra', 'George Cukor'], 1934: ['Frank Capra', 'Victor Schertzinger', 'W. S. Van Dyke'], 1935: ['John Ford', 'Michael Curtiz', 'Henry Hathaway', 'Frank Lloyd'], 1936: ['Frank Capra', 'William Wyler', 'Robert Z. Leonard', 'Gregory La Cava', 'W. S. Van Dyke'], 1937: ['Leo McCarey', 'Sidney Franklin', 'William Dieterle', 'Gregory La Cava', 'William Wellman'], 1938: ['Frank Capra', 'Michael Curtiz', 'Norman Taurog', 'King Vidor', 'Michael Curtiz'], 1939: ['Sam Wood', 'Frank Capra', 'John Ford', 'William Wyler', 'Victor Fleming'], 1940: ['John Ford', 'Sam Wood', 'William Wyler', 'George Cukor', 'Alfred Hitchcock'], 1941: ['John Ford', 'Orson Welles', 'Alexander Hall', 'William Wyler', 'Howard Hawks'], 1942: ['Sam Wood', 'Mervyn LeRoy', 'John Farrow', 'Michael Curtiz', 'William Wyler'], 1943: ['Michael Curtiz', 'Ernst Lubitsch', 'Clarence Brown', 'George Stevens', 'Henry King'], 1944: ['Leo McCarey', 'Billy Wilder', 'Otto Preminger', 'Alfred Hitchcock', 'Henry King'], 1945: ['Billy Wilder', 'Leo McCarey', 'Clarence Brown', 'Jean Renoir', 'Alfred Hitchcock'], 1946: ['David Lean', 'Frank Capra', 'Robert Siodmak', 'Clarence Brown', 'William Wyler'], 1947: ['Elia Kazan', 'Henry Koster', 'Edward Dmytryk', 'George Cukor', 'David Lean'], 1948: ['John Huston', 'Laurence Olivier', 'Jean Negulesco', 'Fred Zinnemann', 'Anatole Litvak'], 1949: ['Joseph L. Mankiewicz', 'Robert Rossen', 'William A. Wellman', 'Carol Reed', 'William Wyler'], 1950: ['Joseph L. Mankiewicz', 'John Huston', 'George Cukor', 'Billy Wilder', 'Carol Reed'], 1951: ['George Stevens', 'John Huston', 'Vincente Minnelli', 'William Wyler', 'Elia Kazan'], 1952: ['John Ford', 'Joseph L. Mankiewicz', 'Cecil B. DeMille', 'Fred Zinnemann', 'John Huston'], 1953: ['Fred Zinnemann', 'Charles Walters', 'William Wyler', 'George Stevens', 'Billy Wilder'], 1954: ['Elia Kazan', 'George Seaton', 'William Wellman', 'Alfred Hitchcock', 'Billy Wilder'], 1955: ['Delbert Mann', 'John Sturges', 'Elia Kazan', 'Joshua Logan', 'David Lean'], 1956: ['George Stevens', 'Michael Anderson', 'William Wyler', 'Walter Lang', 'King Vidor'], 1957: ['David Lean', 'Mark Robson', 'Joshua Logan', 'Sidney Lumet', 'Billy Wilder'], 1958: ['Richard Brooks', 'Stanley Kramer', 'Robert Wise', 'Mark Robson', 'Vincente Minnelli'], 1959: ['George Stevens', 'Fred Zinnemann', 'Jack Clayton', 'Billy Wilder', 'William Wyler'], 1960: ['Billy Wilder', 'Jules Dassin', 'Alfred Hitchcock', 'Jack Cardiff', 'Fred Zinnemann'], 1961: ['J. Lee Thompson', 'Robert Rossen', 'Stanley Kramer', 'Federico Fellini', 'Robert Wise', 'Jerome Robbins'], 1962: ['David Lean', 'Frank Perry', 'Pietro Germi', 'Arthur Penn', 'Robert Mulligan'], 1963: ['Elia Kazan', 'Otto Preminger', 'Federico Fellini', 'Martin Ritt', 'Tony Richardson'], 1964: ['George Cukor', 'Peter Glenville', 'Stanley Kubrick', 'Robert Stevenson', 'Michael Cacoyannis'], 1965: ['William Wyler', 'John Schlesinger', 'David Lean', 'Hiroshi Teshigahara', 'Robert Wise'], 1966: ['Fred Zinnemann', 'Michelangelo Antonioni', 'Claude Lelouch', 'Richard Brooks', 'Mike Nichols'], 1967: ['Arthur Penn', 'Stanley Kramer', 'Richard Brooks', 'Norman Jewison', 'Mike Nichols'], 1968: ['Carol Reed', 'Gillo Pontecorvo', 'Anthony Harvey', 'Franco Zeffirelli', 'Stanley Kubrick'], 1969: ['John Schlesinger', 'Arthur Penn', 'George Roy Hill', 'Sydney Pollack', 'Costa-Gavras'], 1970: ['Franklin J. Schaffner', 'Federico Fellini', 'Arthur Hiller', 'Robert Altman', 'Ken Russell'], 1971: ['Stanley Kubrick', 'Norman Jewison', 'Peter Bogdanovich', 'John Schlesinger', 'William Friedkin'], 1972: ['Bob Fosse', 'John Boorman', 'Jan Troell', 'Francis Ford Coppola', 'Joseph L. Mankiewicz'], 1973: ['George Roy Hill', 'George Lucas', 'Ingmar Bergman', 'William Friedkin', 'Bernardo Bertolucci'], 1974: ['Francis Ford Coppola', 'Roman Polanski', 'Francois Truffaut', 'Bob Fosse', 'John Cassavetes'], 1975: ['Federico Fellini', 'Stanley Kubrick', 'Sidney Lumet', 'Robert Altman', 'Milos Forman'], 1976: ['Alan J. Pakula', 'Ingmar Bergman', 'Sidney Lumet', 'Lina Wertmuller', 'John G. Avildsen'], 1977: ['Steven Spielberg', 'Fred Zinnemann', 'George Lucas', 'Herbert Ross', 'Woody Allen'], 1978: ['Hal Ashby', 'Warren Beatty', 'Buck Henry', 'Woody Allen', 'Alan Parker', 'Michael Cimino'], 1979: ['Bob Fosse', 'Francis Coppola', 'Peter Yates', 'Edouard Molinaro', 'Robert Benton'], 1980: ['David Lynch', 'Martin Scorsese', 'Richard Rush', 'Roman Polanski', 'Robert Redford'], 1981: ['Louis Malle', 'Hugh Hudson', 'Mark Rydell', 'Steven Spielberg', 'Warren Beatty'], 1982: ['Wolfgang Petersen', 'Steven Spielberg', 'Sydney Pollack', 'Sidney Lumet', 'Richard Attenborough'], 1983: ['Peter Yates', 'Ingmar Bergman', 'Mike Nichols', 'Bruce Beresford', 'James L. Brooks'], 1984: ['Woody Allen', 'Roland Joffe', 'David Lean', 'Robert Benton', 'Milos Forman'], 1985: ['Hector Babenco', 'John Huston', 'Akira Kurosawa', 'Peter Weir', 'Sydney Pollack'], 1986: ['David Lynch', 'Woody Allen', 'Roland Joffe', 'James Ivory', 'Oliver Stone'], 1987: ['Bernardo Bertolucci', 'Adrian Lyne', 'John Boorman', 'Norman Jewison', 'Lasse Hallstrom'], 1988: ['Barry Levinson', 'Charles Crichton', 'Martin Scorsese', 'Alan Parker', 'Mike Nichols'], 1989: ['Woody Allen', 'Peter Weir', 'Kenneth Branagh', 'Jim Sheridan', 'Oliver Stone'], 1990: ['Francis Ford Coppola', 'Martin Scorsese', 'Stephen Frears', 'Barbet Schroeder', 'Kevin Costner'], 1991: ['John Singleton', 'Barry Levinson', 'Oliver Stone', 'Ridley Scott', 'Jonathan Demme'], 1992: ['Clint Eastwood', 'Neil Jordan', 'James Ivory', 'Robert Altman', 'Martin Brest'], 1993: ['Jim Sheridan', 'Jane Campion', 'James Ivory', 'Robert Altman', 'Steven Spielberg'], 1994: ['Woody Allen', 'Quentin Tarantino', 'Robert Redford', 'Krzysztof Kieslowski', 'Robert Zemeckis'], 1995: ['Chris Noonan', 'Tim Robbins', 'Mike Figgis', 'Michael Radford', 'Mel Gibson'], 1996: ['Anthony Minghella', 'Joel Coen', 'Milos Forman', 'Mike Leigh', 'Scott Hicks'], 1997: ['Peter Cattaneo', 'Gus Van Sant', 'Curtis Hanson', 'Atom Egoyan', 'James Cameron'], 1998: ['Roberto Benigni', 'John Madden', 'Terrence Malick', 'Peter Weir', 'Steven Spielberg'], 1999: ['Spike Jonze', 'Lasse Hallstrom', 'Michael Mann', 'M. Night Shyamalan', 'Sam Mendes'], 2000: ['Stephen Daldry', 'Ang Lee', 'Steven Soderbergh', 'Ridley Scott', 'Steven Soderbergh'], 2001: ['Ridley Scott', 'Robert Altman', 'Peter Jackson', 'David Lynch', 'Ron Howard'], 2002: ['Rob Marshall', 'Martin Scorsese', 'Stephen Daldry', 'Pedro Almodovar', 'Roman Polanski'], 2003: ['Fernando Meirelles', 'Sofia Coppola', 'Peter Weir', 'Clint Eastwood', 'Peter Jackson'], 2004: ['Martin Scorsese', 'Taylor Hackford', 'Alexander Payne', 'Mike Leigh', 'Clint Eastwood'], 2005: ['Ang Lee', 'Bennett Miller', 'Paul Haggis', 'George Clooney', 'Steven Spielberg'], 2006: ['Alejandro Gonzaalez Inarritu', 'Clint Eastwood', 'Stephen Frears', 'Paul Greengrass', 'Martin Scorsese'], 2007: ['Julian Schnabel', 'Jason Reitman', 'Tony Gilroy', 'Paul Thomas Anderson', 'Joel Coen', 'Ethan Coen'], 2008: ['David Fincher', 'Ron Howard', 'Gus Van Sant', 'Stephen Daldry', 'Danny Boyle'], 2009: ['James Cameron', 'Quentin Tarantino', 'Lee Daniels', 'Jason Reitman', 'Kathryn Bigelow'], 2010: ['Darren Aronofsky', 'David O. Russell', 'David Fincher', 'Ethan Coen', 'Joel Coen', 'Tom Hooper']}\n",
        "winners = {1931: ['Norman Taurog'], 1932: ['Frank Borzage'], 1933: ['Frank Lloyd'], 1934: ['Frank Capra'], 1935: ['John Ford'], 1936: ['Frank Capra'], 1937: ['Leo McCarey'], 1938: ['Frank Capra'], 1939: ['Victor Fleming'], 1940: ['John Ford'], 1941: ['John Ford'], 1942: ['William Wyler'], 1943: ['Michael Curtiz'], 1944: ['Leo McCarey'], 1945: ['Billy Wilder'], 1946: ['William Wyler'], 1947: ['Elia Kazan'], 1948: ['John Huston'], 1949: ['Joseph L. Mankiewicz'], 1950: ['Joseph L. Mankiewicz'], 1951: ['George Stevens'], 1952: ['John Ford'], 1953: ['Fred Zinnemann'], 1954: ['Elia Kazan'], 1955: ['Delbert Mann'], 1956: ['George Stevens'], 1957: ['David Lean'], 1958: ['Vincente Minnelli'], 1959: ['William Wyler'], 1960: ['Billy Wilder'], 1961: ['Jerome Robbins', 'Robert Wise'], 1962: ['David Lean'], 1963: ['Tony Richardson'], 1964: ['George Cukor'], 1965: ['Robert Wise'], 1966: ['Fred Zinnemann'], 1967: ['Mike Nichols'], 1968: ['Carol Reed'], 1969: ['John Schlesinger'], 1970: ['Franklin J. Schaffner'], 1971: ['William Friedkin'], 1972: ['Bob Fosse'], 1973: ['George Roy Hill'], 1974: ['Francis Ford Coppola'], 1975: ['Milos Forman'], 1976: ['John G. Avildsen'], 1977: ['Woody Allen'], 1978: ['Michael Cimino'], 1979: ['Robert Benton'], 1980: ['Robert Redford'], 1981: ['Warren Beatty'], 1982: ['Richard Attenborough'], 1983: ['James L. Brooks'], 1984: ['Milos Forman'], 1985: ['Sydney Pollack'], 1986: ['Oliver Stone'], 1987: ['Bernardo Bertolucci'], 1988: ['Barry Levinson'], 1989: ['Oliver Stone'], 1990: ['Kevin Costner'], 1991: ['Jonathan Demme'], 1992: ['Clint Eastwood'], 1993: ['Steven Spielberg'], 1994: ['Robert Zemeckis'], 1995: ['Mel Gibson'], 1996: ['Anthony Minghella'], 1997: ['James Cameron'], 1998: ['Steven Spielberg'], 1999: ['Sam Mendes'], 2000: ['Steven Soderbergh'], 2001: ['Ron Howard'], 2002: ['Roman Polanski'], 2003: ['Peter Jackson'], 2004: ['Clint Eastwood'], 2005: ['Ang Lee'], 2006: ['Martin Scorsese'], 2007: ['Ethan Coen', 'Joel Coen'], 2008: ['Danny Boyle'], 2009: ['Kathryn Bigelow'], 2010: ['Tom Hooper']}\n",
        "\n",
        "### 1A: Create dictionary with the count of Oscar nominations for each director \n",
        "nom_count_dict = {}\n",
        "\n",
        "for year, list_dir in nominated.items():\n",
        "  for director in list_dir:\n",
        "    if director not in nom_count_dict:\n",
        "      nom_count_dict[director] = 1\n",
        "    else:\n",
        "      nom_count_dict[director] += 1\n",
        "      \n",
        "print(\"nom_count_dict = {}\\n\".format(nom_count_dict))\n",
        "\n",
        "\n",
        "### 1B: Create dictionary with the count of Oscar wins for each director\n",
        "win_count_dict = {}\n",
        "for year, winner_list in winners.items():\n",
        "  for winner in winner_list:\n",
        "    win_count_dict[winner] = win_count_dict.get(winner,0) + 1\n",
        "\n",
        "print(\"win_count_dict = {}\".format(win_count_dict))\n",
        "\n"
      ],
      "execution_count": null,
      "outputs": [
        {
          "output_type": "stream",
          "text": [
            "nom_count_dict = {'Norman Taurog': 2, 'Wesley Ruggles': 1, 'Clarence Brown': 4, 'Lewis Milestone': 1, 'Josef Von Sternberg': 2, 'Frank Borzage': 1, 'King Vidor': 3, 'Frank Lloyd': 2, 'Frank Capra': 6, 'George Cukor': 5, 'Victor Schertzinger': 1, 'W. S. Van Dyke': 2, 'John Ford': 5, 'Michael Curtiz': 5, 'Henry Hathaway': 1, 'William Wyler': 12, 'Robert Z. Leonard': 1, 'Gregory La Cava': 2, 'Leo McCarey': 3, 'Sidney Franklin': 1, 'William Dieterle': 1, 'William Wellman': 2, 'Sam Wood': 3, 'Victor Fleming': 1, 'Alfred Hitchcock': 5, 'Orson Welles': 1, 'Alexander Hall': 1, 'Howard Hawks': 1, 'Mervyn LeRoy': 1, 'John Farrow': 1, 'Ernst Lubitsch': 1, 'George Stevens': 5, 'Henry King': 2, 'Billy Wilder': 8, 'Otto Preminger': 2, 'Jean Renoir': 1, 'David Lean': 7, 'Robert Siodmak': 1, 'Elia Kazan': 5, 'Henry Koster': 1, 'Edward Dmytryk': 1, 'John Huston': 5, 'Laurence Olivier': 1, 'Jean Negulesco': 1, 'Fred Zinnemann': 7, 'Anatole Litvak': 1, 'Joseph L. Mankiewicz': 4, 'Robert Rossen': 2, 'William A. Wellman': 1, 'Carol Reed': 3, 'Vincente Minnelli': 2, 'Cecil B. DeMille': 1, 'Charles Walters': 1, 'George Seaton': 1, 'Delbert Mann': 1, 'John Sturges': 1, 'Joshua Logan': 2, 'Michael Anderson': 1, 'Walter Lang': 1, 'Mark Robson': 2, 'Sidney Lumet': 4, 'Richard Brooks': 3, 'Stanley Kramer': 3, 'Robert Wise': 3, 'Jack Clayton': 1, 'Jules Dassin': 1, 'Jack Cardiff': 1, 'J. Lee Thompson': 1, 'Federico Fellini': 4, 'Jerome Robbins': 1, 'Frank Perry': 1, 'Pietro Germi': 1, 'Arthur Penn': 3, 'Robert Mulligan': 1, 'Martin Ritt': 1, 'Tony Richardson': 1, 'Peter Glenville': 1, 'Stanley Kubrick': 4, 'Robert Stevenson': 1, 'Michael Cacoyannis': 1, 'John Schlesinger': 3, 'Hiroshi Teshigahara': 1, 'Michelangelo Antonioni': 1, 'Claude Lelouch': 1, 'Mike Nichols': 4, 'Norman Jewison': 3, 'Gillo Pontecorvo': 1, 'Anthony Harvey': 1, 'Franco Zeffirelli': 1, 'George Roy Hill': 2, 'Sydney Pollack': 3, 'Costa-Gavras': 1, 'Franklin J. Schaffner': 1, 'Arthur Hiller': 1, 'Robert Altman': 5, 'Ken Russell': 1, 'Peter Bogdanovich': 1, 'William Friedkin': 2, 'Bob Fosse': 3, 'John Boorman': 2, 'Jan Troell': 1, 'Francis Ford Coppola': 3, 'George Lucas': 2, 'Ingmar Bergman': 3, 'Bernardo Bertolucci': 2, 'Roman Polanski': 3, 'Francois Truffaut': 1, 'John Cassavetes': 1, 'Milos Forman': 3, 'Alan J. Pakula': 1, 'Lina Wertmuller': 1, 'John G. Avildsen': 1, 'Steven Spielberg': 6, 'Herbert Ross': 1, 'Woody Allen': 6, 'Hal Ashby': 1, 'Warren Beatty': 2, 'Buck Henry': 1, 'Alan Parker': 2, 'Michael Cimino': 1, 'Francis Coppola': 1, 'Peter Yates': 2, 'Edouard Molinaro': 1, 'Robert Benton': 2, 'David Lynch': 3, 'Martin Scorsese': 6, 'Richard Rush': 1, 'Robert Redford': 2, 'Louis Malle': 1, 'Hugh Hudson': 1, 'Mark Rydell': 1, 'Wolfgang Petersen': 1, 'Richard Attenborough': 1, 'Bruce Beresford': 1, 'James L. Brooks': 1, 'Roland Joffe': 2, 'Hector Babenco': 1, 'Akira Kurosawa': 1, 'Peter Weir': 4, 'James Ivory': 3, 'Oliver Stone': 3, 'Adrian Lyne': 1, 'Lasse Hallstrom': 2, 'Barry Levinson': 2, 'Charles Crichton': 1, 'Kenneth Branagh': 1, 'Jim Sheridan': 2, 'Stephen Frears': 2, 'Barbet Schroeder': 1, 'Kevin Costner': 1, 'John Singleton': 1, 'Ridley Scott': 3, 'Jonathan Demme': 1, 'Clint Eastwood': 4, 'Neil Jordan': 1, 'Martin Brest': 1, 'Jane Campion': 1, 'Quentin Tarantino': 2, 'Krzysztof Kieslowski': 1, 'Robert Zemeckis': 1, 'Chris Noonan': 1, 'Tim Robbins': 1, 'Mike Figgis': 1, 'Michael Radford': 1, 'Mel Gibson': 1, 'Anthony Minghella': 1, 'Joel Coen': 3, 'Mike Leigh': 2, 'Scott Hicks': 1, 'Peter Cattaneo': 1, 'Gus Van Sant': 2, 'Curtis Hanson': 1, 'Atom Egoyan': 1, 'James Cameron': 2, 'Roberto Benigni': 1, 'John Madden': 1, 'Terrence Malick': 1, 'Spike Jonze': 1, 'Michael Mann': 1, 'M. Night Shyamalan': 1, 'Sam Mendes': 1, 'Stephen Daldry': 3, 'Ang Lee': 2, 'Steven Soderbergh': 2, 'Peter Jackson': 2, 'Ron Howard': 2, 'Rob Marshall': 1, 'Pedro Almodovar': 1, 'Fernando Meirelles': 1, 'Sofia Coppola': 1, 'Taylor Hackford': 1, 'Alexander Payne': 1, 'Bennett Miller': 1, 'Paul Haggis': 1, 'George Clooney': 1, 'Alejandro Gonzaalez Inarritu': 1, 'Paul Greengrass': 1, 'Julian Schnabel': 1, 'Jason Reitman': 2, 'Tony Gilroy': 1, 'Paul Thomas Anderson': 1, 'Ethan Coen': 2, 'David Fincher': 2, 'Danny Boyle': 1, 'Lee Daniels': 1, 'Kathryn Bigelow': 1, 'Darren Aronofsky': 1, 'David O. Russell': 1, 'Tom Hooper': 1}\n",
            "\n",
            "win_count_dict = {'Norman Taurog': 1, 'Frank Borzage': 1, 'Frank Lloyd': 1, 'Frank Capra': 3, 'John Ford': 4, 'Leo McCarey': 2, 'Victor Fleming': 1, 'William Wyler': 3, 'Michael Curtiz': 1, 'Billy Wilder': 2, 'Elia Kazan': 2, 'John Huston': 1, 'Joseph L. Mankiewicz': 2, 'George Stevens': 2, 'Fred Zinnemann': 2, 'Delbert Mann': 1, 'David Lean': 2, 'Vincente Minnelli': 1, 'Jerome Robbins': 1, 'Robert Wise': 2, 'Tony Richardson': 1, 'George Cukor': 1, 'Mike Nichols': 1, 'Carol Reed': 1, 'John Schlesinger': 1, 'Franklin J. Schaffner': 1, 'William Friedkin': 1, 'Bob Fosse': 1, 'George Roy Hill': 1, 'Francis Ford Coppola': 1, 'Milos Forman': 2, 'John G. Avildsen': 1, 'Woody Allen': 1, 'Michael Cimino': 1, 'Robert Benton': 1, 'Robert Redford': 1, 'Warren Beatty': 1, 'Richard Attenborough': 1, 'James L. Brooks': 1, 'Sydney Pollack': 1, 'Oliver Stone': 2, 'Bernardo Bertolucci': 1, 'Barry Levinson': 1, 'Kevin Costner': 1, 'Jonathan Demme': 1, 'Clint Eastwood': 2, 'Steven Spielberg': 2, 'Robert Zemeckis': 1, 'Mel Gibson': 1, 'Anthony Minghella': 1, 'James Cameron': 1, 'Sam Mendes': 1, 'Steven Soderbergh': 1, 'Ron Howard': 1, 'Roman Polanski': 1, 'Peter Jackson': 1, 'Ang Lee': 1, 'Martin Scorsese': 1, 'Ethan Coen': 1, 'Joel Coen': 1, 'Danny Boyle': 1, 'Kathryn Bigelow': 1, 'Tom Hooper': 1}\n"
          ],
          "name": "stdout"
        }
      ]
    },
    {
      "cell_type": "code",
      "metadata": {
        "id": "xoAPv9-Fb6QW"
      },
      "source": [
        "#Provide a list with the name(s) of the director(s) with the most Oscar wins. We are asking for a list because there could be more than 1 director tied for the most Oscar wins.\n",
        "\n",
        "winners = {1931: ['Norman Taurog'], 1932: ['Frank Borzage'], 1933: ['Frank Lloyd'], 1934: ['Frank Capra'], 1935: ['John Ford'], 1936: ['Frank Capra'], 1937: ['Leo McCarey'], 1938: ['Frank Capra'], 1939: ['Victor Fleming'], 1940: ['John Ford'], 1941: ['John Ford'], 1942: ['William Wyler'], 1943: ['Michael Curtiz'], 1944: ['Leo McCarey'], 1945: ['Billy Wilder'], 1946: ['William Wyler'], 1947: ['Elia Kazan'], 1948: ['John Huston'], 1949: ['Joseph L. Mankiewicz'], 1950: ['Joseph L. Mankiewicz'], 1951: ['George Stevens'], 1952: ['John Ford'], 1953: ['Fred Zinnemann'], 1954: ['Elia Kazan'], 1955: ['Delbert Mann'], 1956: ['George Stevens'], 1957: ['David Lean'], 1958: ['Vincente Minnelli'], 1959: ['William Wyler'], 1960: ['Billy Wilder'], 1961: ['Jerome Robbins', 'Robert Wise'], 1962: ['David Lean'], 1963: ['Tony Richardson'], 1964: ['George Cukor'], 1965: ['Robert Wise'], 1966: ['Fred Zinnemann'], 1967: ['Mike Nichols'], 1968: ['Carol Reed'], 1969: ['John Schlesinger'], 1970: ['Franklin J. Schaffner'], 1971: ['William Friedkin'], 1972: ['Bob Fosse'], 1973: ['George Roy Hill'], 1974: ['Francis Ford Coppola'], 1975: ['Milos Forman'], 1976: ['John G. Avildsen'], 1977: ['Woody Allen'], 1978: ['Michael Cimino'], 1979: ['Robert Benton'], 1980: ['Robert Redford'], 1981: ['Warren Beatty'], 1982: ['Richard Attenborough'], 1983: ['James L. Brooks'], 1984: ['Milos Forman'], 1985: ['Sydney Pollack'], 1986: ['Oliver Stone'], 1987: ['Bernardo Bertolucci'], 1988: ['Barry Levinson'], 1989: ['Oliver Stone'], 1990: ['Kevin Costner'], 1991: ['Jonathan Demme'], 1992: ['Clint Eastwood'], 1993: ['Steven Spielberg'], 1994: ['Robert Zemeckis'], 1995: ['Mel Gibson'], 1996: ['Anthony Minghella'], 1997: ['James Cameron'], 1998: ['Steven Spielberg'], 1999: ['Sam Mendes'], 2000: ['Steven Soderbergh'], 2001: ['Ron Howard'], 2002: ['Roman Polanski'], 2003: ['Peter Jackson'], 2004: ['Clint Eastwood'], 2005: ['Ang Lee'], 2006: ['Martin Scorsese'], 2007: ['Ethan Coen', 'Joel Coen'], 2008: ['Danny Boyle'], 2009: ['Kathryn Bigelow'], 2010: ['Tom Hooper']}\n",
        "\n",
        "\n",
        "### For Question 2: Please provide a list with the name(s) of the director(s) with \n",
        "### the most Oscar wins. The list can hold the names of multiple directors,\n",
        "### since there can be more than 1 director tied with the most Oscar wins.\n",
        "\n",
        "most_win_director = []\n",
        "# Add your code here\n",
        "\n",
        "\n",
        "print(\"most_win_director = {}\".format(most_win_director))\n",
        "\n",
        "\n"
      ],
      "execution_count": null,
      "outputs": []
    },
    {
      "cell_type": "markdown",
      "metadata": {
        "id": "rHYxf9ZQb_Xf"
      },
      "source": [
        "## Examples"
      ]
    },
    {
      "cell_type": "code",
      "metadata": {
        "id": "5hZXHj7yffAY",
        "colab": {
          "base_uri": "https://localhost:8080/"
        },
        "outputId": "f1e8a7ee-31e7-45b1-9377-e9a9e2a34ca6"
      },
      "source": [
        "cities = ['bangalore', 'Delhi', 'Pune']\n",
        "\n",
        "for city in cities:\n",
        "  print(city.title())\n"
      ],
      "execution_count": null,
      "outputs": [
        {
          "output_type": "stream",
          "text": [
            "Bangalore\n",
            "Delhi\n",
            "Pune\n"
          ],
          "name": "stdout"
        }
      ]
    },
    {
      "cell_type": "code",
      "metadata": {
        "colab": {
          "base_uri": "https://localhost:8080/"
        },
        "id": "6E_-xiWLUBq3",
        "outputId": "e347679f-4989-4f6d-e8ee-a7e3fbb7fb3c"
      },
      "source": [
        "## Creating and Modifying Lists\n",
        "\n",
        "cities = ['new york city', 'mountain view', 'chicago', 'los angeles']\n",
        "\n",
        "capitalized_cities = []\n",
        "\n",
        "for city in cities:\n",
        "  capitalized_cities.append(city.title())\n",
        "print(capitalized_cities)\n",
        "\n"
      ],
      "execution_count": null,
      "outputs": [
        {
          "output_type": "stream",
          "text": [
            "['New York City', 'Mountain View', 'Chicago', 'Los Angeles']\n"
          ],
          "name": "stdout"
        }
      ]
    },
    {
      "cell_type": "code",
      "metadata": {
        "colab": {
          "base_uri": "https://localhost:8080/"
        },
        "id": "mEInz4_5WqDn",
        "outputId": "7e90caff-356d-4999-c5c8-507c0670899c"
      },
      "source": [
        "for index in range(len(cities)):\n",
        "  print(capitalized_cities[index])\n",
        "  "
      ],
      "execution_count": null,
      "outputs": [
        {
          "output_type": "stream",
          "text": [
            "New York City\n",
            "Mountain View\n",
            "Chicago\n",
            "Los Angeles\n"
          ],
          "name": "stdout"
        }
      ]
    },
    {
      "cell_type": "code",
      "metadata": {
        "colab": {
          "base_uri": "https://localhost:8080/"
        },
        "id": "iBILLEvFXSot",
        "outputId": "a0f38c3b-9ff1-4e0b-d211-568f96811ce7"
      },
      "source": [
        "sentence = [\"the\",\"quick\",\"brown\",\"fox\",\"jumped\",\"over\",\"the\",\"lazy\",\"dog\"]\n",
        "\n",
        "for i in range(len(sentence)):\n",
        "  print(sentence[i])"
      ],
      "execution_count": null,
      "outputs": [
        {
          "output_type": "stream",
          "text": [
            "the\n",
            "quick\n",
            "brown\n",
            "fox\n",
            "jumped\n",
            "over\n",
            "the\n",
            "lazy\n",
            "dog\n"
          ],
          "name": "stdout"
        }
      ]
    },
    {
      "cell_type": "code",
      "metadata": {
        "colab": {
          "base_uri": "https://localhost:8080/"
        },
        "id": "TepTH615YZda",
        "outputId": "ed1cf55b-9963-460f-bdd6-61211dce8666"
      },
      "source": [
        "for i in range(5,31,5):\n",
        "  print(i)\n",
        "\n",
        "data_range = list(range(5,31,5))\n",
        "for i in data_range:\n",
        "  print(i)\n"
      ],
      "execution_count": null,
      "outputs": [
        {
          "output_type": "stream",
          "text": [
            "5\n",
            "10\n",
            "15\n",
            "20\n",
            "25\n",
            "30\n",
            "5\n",
            "10\n",
            "15\n",
            "20\n",
            "25\n",
            "30\n"
          ],
          "name": "stdout"
        }
      ]
    },
    {
      "cell_type": "code",
      "metadata": {
        "colab": {
          "base_uri": "https://localhost:8080/"
        },
        "id": "iBPDqlbSZL7v",
        "outputId": "d98dabb9-0093-40cb-ca9e-1db187876294"
      },
      "source": [
        "tokens = ['<greeting>', 'Hello World!', '</greeting>']\n",
        "\n",
        "count = 0\n",
        "\n",
        "for token in tokens:\n",
        "  if token[0] == '<' and token[-1] == '>':\n",
        "    count+= 1;\n",
        "\n",
        "print(count)"
      ],
      "execution_count": null,
      "outputs": [
        {
          "output_type": "stream",
          "text": [
            "2\n"
          ],
          "name": "stdout"
        }
      ]
    },
    {
      "cell_type": "code",
      "metadata": {
        "colab": {
          "base_uri": "https://localhost:8080/"
        },
        "id": "jnW40PT_jeZ6",
        "outputId": "d116b51f-40a5-4bbe-acd0-d437195f71b5"
      },
      "source": [
        "items = ['first string', 'second string']\n",
        "html_str = \"<ul>\\n\"   \n",
        "\n",
        "for item in items:\n",
        "  html_str += \"<li>{}</li>\\n\".format(item)\n",
        "\n",
        "html_str +=\"</ul>\"\n",
        "\n",
        "print(html_str)"
      ],
      "execution_count": null,
      "outputs": [
        {
          "output_type": "stream",
          "text": [
            "<ul>\n",
            "<li>first string</li>\n",
            "<li>second string</li>\n",
            "</ul>\n"
          ],
          "name": "stdout"
        }
      ]
    },
    {
      "cell_type": "code",
      "metadata": {
        "colab": {
          "base_uri": "https://localhost:8080/"
        },
        "id": "qbI6pKN7rSYu",
        "outputId": "7d77d403-8bae-4bfd-e331-a43d819828c7"
      },
      "source": [
        "colors = ['Red Color', 'Blue Color', 'Green Color', 'Purple Color']\n",
        "lower_colors = [ ]\n",
        "\n",
        "for color in colors:\n",
        "  lower_colors.append(color.lower().replace(\" \", \"_\"))\n",
        "\n",
        "print(lower_colors)"
      ],
      "execution_count": null,
      "outputs": [
        {
          "output_type": "stream",
          "text": [
            "['red_color', 'blue_color', 'green_color', 'purple_color']\n"
          ],
          "name": "stdout"
        }
      ]
    },
    {
      "cell_type": "code",
      "metadata": {
        "colab": {
          "base_uri": "https://localhost:8080/"
        },
        "id": "Wo8na-2esPyn",
        "outputId": "aabf73ba-fffd-4777-8aa1-4668dcc4b1b7"
      },
      "source": [
        "usernames = [\"Joey Tribbiani\", \"Monica Geller\", \"Chandler Bing\", \"Phoebe Buffay\"]\n",
        "\n",
        "# write your for loop here\n",
        "for i in range(len(usernames)):\n",
        "  usernames[i] = usernames[i].lower().replace(\" \", \"_\")\n",
        "\n",
        "print(usernames)"
      ],
      "execution_count": null,
      "outputs": [
        {
          "output_type": "stream",
          "text": [
            "['joey_tribbiani', 'monica_geller', 'chandler_bing', 'phoebe_buffay']\n"
          ],
          "name": "stdout"
        }
      ]
    },
    {
      "cell_type": "code",
      "metadata": {
        "colab": {
          "base_uri": "https://localhost:8080/"
        },
        "id": "60EG9A8juMoQ",
        "outputId": "ebd37783-981e-4287-ec23-75c093ac88b6"
      },
      "source": [
        "book_title =  ['great', 'expectations','the', 'adventures', 'of', 'sherlock','holmes','the','great','gasby','hamlet','adventures','of','huckleberry','fin']\n",
        "\n",
        "word_counter = {}\n",
        "\n",
        "for word in book_title:\n",
        "  if word not in word_counter:\n",
        "    word_counter[word] = 1\n",
        "  else:\n",
        "    word_counter[word]+= 1\n",
        "\n",
        "print(word_counter)"
      ],
      "execution_count": null,
      "outputs": [
        {
          "output_type": "stream",
          "text": [
            "{'great': 2, 'expectations': 1, 'the': 2, 'adventures': 2, 'of': 2, 'sherlock': 1, 'holmes': 1, 'gasby': 1, 'hamlet': 1, 'huckleberry': 1, 'fin': 1}\n"
          ],
          "name": "stdout"
        }
      ]
    },
    {
      "cell_type": "code",
      "metadata": {
        "colab": {
          "base_uri": "https://localhost:8080/"
        },
        "id": "URzkvwo_72Wn",
        "outputId": "fc79fb5f-85fa-40de-cef1-74f77a4a65e3"
      },
      "source": [
        "# Using Dictionary get() function\n",
        "\n",
        "book_title =  ['great', 'expectations','the', 'adventures', 'of', 'sherlock','holmes','the','great','gasby','hamlet','adventures','of','huckleberry','fin']\n",
        "\n",
        "word_counter = {}\n",
        "\n",
        "for word in book_title:\n",
        "  word_counter[word] = word_counter.get(word, 0) + 1\n",
        "\n",
        "print(word_counter)"
      ],
      "execution_count": null,
      "outputs": [
        {
          "output_type": "stream",
          "text": [
            "{'great': 2, 'expectations': 1, 'the': 2, 'adventures': 2, 'of': 2, 'sherlock': 1, 'holmes': 1, 'gasby': 1, 'hamlet': 1, 'huckleberry': 1, 'fin': 1}\n"
          ],
          "name": "stdout"
        }
      ]
    },
    {
      "cell_type": "code",
      "metadata": {
        "colab": {
          "base_uri": "https://localhost:8080/"
        },
        "id": "aTZiTR9TlVUN",
        "outputId": "1cf5416b-eb04-4b89-c336-12b507846f4c"
      },
      "source": [
        "# for loop to iterate a dictionary\n",
        "\n",
        "cast = {\n",
        "           \"Jerry Seinfeld\": \"Jerry Seinfeld\",\n",
        "           \"Julia Louis-Dreyfus\": \"Elaine Benes\",\n",
        "           \"Jason Alexander\": \"George Costanza\",\n",
        "           \"Michael Richards\": \"Cosmo Kramer\"\n",
        "       }\n",
        "\n",
        "for keys in cast:\n",
        "  print(keys)\n",
        "  \n"
      ],
      "execution_count": null,
      "outputs": [
        {
          "output_type": "stream",
          "text": [
            "Jerry Seinfeld\n",
            "Julia Louis-Dreyfus\n",
            "Jason Alexander\n",
            "Michael Richards\n"
          ],
          "name": "stdout"
        }
      ]
    },
    {
      "cell_type": "code",
      "metadata": {
        "colab": {
          "base_uri": "https://localhost:8080/"
        },
        "id": "9sYQ8LGZ215U",
        "outputId": "74d9fe9a-e184-45f4-cf9f-627da55622c7"
      },
      "source": [
        "# for loop to iterate dictionary keys and values\n",
        "\n",
        "for keys, value in cast.items():\n",
        "  print(\"Actor: {}        Role: {}\".format(keys, value))\n"
      ],
      "execution_count": null,
      "outputs": [
        {
          "output_type": "stream",
          "text": [
            "Actor: Jerry Seinfeld        Role: Jerry Seinfeld\n",
            "Actor: Julia Louis-Dreyfus        Role: Elaine Benes\n",
            "Actor: Jason Alexander        Role: George Costanza\n",
            "Actor: Michael Richards        Role: Cosmo Kramer\n"
          ],
          "name": "stdout"
        }
      ]
    },
    {
      "cell_type": "code",
      "metadata": {
        "colab": {
          "base_uri": "https://localhost:8080/"
        },
        "id": "jOu-Cv023aai",
        "outputId": "2c0e73f3-837d-4f43-ce21-04a82d1d6e9b"
      },
      "source": [
        "# You would like to count the number of fruits in your basket. \n",
        "# In order to do this, you have the following dictionary and list of\n",
        "# fruits.  Use the dictionary and list to count the total number\n",
        "# of fruits, but you do not want to count the other items in your basket.\n",
        "\n",
        "result = 0\n",
        "basket_items = {'apples': 4, 'oranges': 19, 'kites': 3, 'sandwiches': 8}\n",
        "fruits = ['apples', 'oranges', 'pears', 'peaches', 'grapes', 'bananas']\n",
        "\n",
        "result = 0\n",
        "\n",
        "#Iterate through the dictionary\n",
        "for objects, count in basket_items.items():\n",
        "  if objects in fruits:\n",
        "    result+=count\n",
        "\n",
        "#if the key is in the list of fruits, add the value (number of fruits) to result\n",
        "print(\"There are {} fruits in the basket\".format(result))\n",
        "\n"
      ],
      "execution_count": null,
      "outputs": [
        {
          "output_type": "stream",
          "text": [
            "There are 23 fruits in the basket\n"
          ],
          "name": "stdout"
        }
      ]
    },
    {
      "cell_type": "code",
      "metadata": {
        "colab": {
          "base_uri": "https://localhost:8080/"
        },
        "id": "Y80ilYU44nzw",
        "outputId": "3092477e-8230-4222-817d-16963487cbf5"
      },
      "source": [
        "#Example 1\n",
        "\n",
        "result = 0\n",
        "basket_items = {'pears': 5, 'grapes': 19, 'kites': 3, 'sandwiches': 8, 'bananas': 4}\n",
        "fruits = ['apples', 'oranges', 'pears', 'peaches', 'grapes', 'bananas']\n",
        "\n",
        "for objects, count in basket_items.items():\n",
        "  if objects in fruits:\n",
        "    result+= count\n",
        "\n",
        "# Your previous solution here\n",
        "\n",
        "print(result)\n",
        "\n",
        "#Example 2\n",
        "\n",
        "result = 0\n",
        "basket_items = {'peaches': 5, 'lettuce': 2, 'kites': 3, 'sandwiches': 8, 'pears': 4}\n",
        "fruits = ['apples', 'oranges', 'pears', 'peaches', 'grapes', 'bananas']\n",
        "\n",
        "for object, count in basket_items.items():\n",
        "  if objects in fruits:\n",
        "    result+=count\n",
        "\n",
        "# Your previous solution here\n",
        "\n",
        "print(result)\n",
        "\n",
        "\n",
        "#Example 3\n",
        "\n",
        "result = 0\n",
        "basket_items = {'lettuce': 2, 'kites': 3, 'sandwiches': 8, 'pears': 4, 'bears': 10}\n",
        "fruits = ['apples', 'oranges', 'pears', 'peaches', 'grapes', 'bananas']\n",
        "\n",
        "for objects, count in basket_items.items():\n",
        "  if objects in fruits:\n",
        "    result+=count\n",
        "# Your previous solution here\n",
        "\n",
        "print(result)\n"
      ],
      "execution_count": null,
      "outputs": [
        {
          "output_type": "stream",
          "text": [
            "28\n",
            "22\n",
            "4\n"
          ],
          "name": "stdout"
        }
      ]
    },
    {
      "cell_type": "code",
      "metadata": {
        "colab": {
          "base_uri": "https://localhost:8080/"
        },
        "id": "rKTlvxz86HZa",
        "outputId": "72db8646-bc7b-4a8e-922b-4d272f744615"
      },
      "source": [
        "# You would like to count the number of fruits in your basket. \n",
        "# In order to do this, you have the following dictionary and list of\n",
        "# fruits.  Use the dictionary and list to count the total number\n",
        "# of fruits and not_fruits.\n",
        "\n",
        "fruit_count, not_fruit_count = 0, 0\n",
        "basket_items = {'apples': 4, 'oranges': 19, 'kites': 3, 'sandwiches': 8}\n",
        "fruits = ['apples', 'oranges', 'pears', 'peaches', 'grapes', 'bananas']\n",
        "\n",
        "#Iterate through the dictionary\n",
        "for objects, count in basket_items.items():\n",
        "  if objects in fruits:\n",
        "    fruit_count += count\n",
        "  else:\n",
        "    not_fruit_count += count\n",
        "\n",
        "#if the key is in the list of fruits, add to fruit_count.\n",
        "\n",
        "#if the key is not in the list, then add to the not_fruit_count\n",
        "\n",
        "\n",
        "print(fruit_count, not_fruit_count)"
      ],
      "execution_count": null,
      "outputs": [
        {
          "output_type": "stream",
          "text": [
            "23 11\n"
          ],
          "name": "stdout"
        }
      ]
    },
    {
      "cell_type": "markdown",
      "metadata": {
        "id": "4DM26Ji78gY_"
      },
      "source": [
        "# while loop"
      ]
    },
    {
      "cell_type": "code",
      "metadata": {
        "colab": {
          "base_uri": "https://localhost:8080/"
        },
        "id": "BR0FsO0f6wNx",
        "outputId": "83fa4963-6bd2-4ff2-b6ba-01aaadcba908"
      },
      "source": [
        "# number to find the factorial of\n",
        "number = 6   \n",
        "\n",
        "# start with our product equal to one\n",
        "product = 1\n",
        "\n",
        "# track the current number being multiplied\n",
        "current = 1\n",
        "\n",
        "# write your while loop here\n",
        "while(current <= number):\n",
        "  product *= current\n",
        "  current+= 1\n",
        "    # multiply the product so far by the current number\n",
        "    \n",
        "    \n",
        "    # increment current with each iteration until it reaches number\n",
        "\n",
        "\n",
        "\n",
        "# print the factorial of number\n",
        "print(product)"
      ],
      "execution_count": null,
      "outputs": [
        {
          "output_type": "stream",
          "text": [
            "720\n"
          ],
          "name": "stdout"
        }
      ]
    },
    {
      "cell_type": "code",
      "metadata": {
        "colab": {
          "base_uri": "https://localhost:8080/"
        },
        "id": "RDsWJPiyBHik",
        "outputId": "61c4ad65-a1b3-4c17-bcb0-a860b6136367"
      },
      "source": [
        "# Nearest Square\n",
        "\n",
        "limit = 40\n",
        "\n",
        "num = 0\n",
        "\n",
        "while (num+1)**2 < limit:\n",
        "   num += 1\n",
        "nearest_square = num**2\n",
        "\n",
        "print(nearest_square)"
      ],
      "execution_count": null,
      "outputs": [
        {
          "output_type": "stream",
          "text": [
            "36\n"
          ],
          "name": "stdout"
        }
      ]
    },
    {
      "cell_type": "markdown",
      "metadata": {
        "id": "td6FNzsLcnxu"
      },
      "source": [
        "# Break, Continue"
      ]
    },
    {
      "cell_type": "code",
      "metadata": {
        "colab": {
          "base_uri": "https://localhost:8080/"
        },
        "id": "U6SdyM2oDW8W",
        "outputId": "8ce283ae-37d0-4085-d74d-1bc854e2b6e5"
      },
      "source": [
        "manifest = [(\"bananas\", 15), (\"mattresses\", 24), (\"dog kennels\", 42), (\"machine\", 120), (\"cheeses\", 35), (\"orange\", 14)]\n",
        "print(\"METHOD 1\")\n",
        "weight = 0\n",
        "items = []\n",
        "\n",
        "for cargo_name, cargo_weight in manifest:\n",
        "\n",
        "  if weight >= 100:\n",
        "    break\n",
        "  else:\n",
        "    items.append(cargo_name)\n",
        "    weight += cargo_weight\n",
        "\n",
        "print(weight, items)\n",
        "\n",
        "print(\"METHOD 2\")\n",
        "weight = 0\n",
        "for cargo_name, cargo_weight in manifest:\n",
        "  \n",
        "  if weight >= 100:\n",
        "    break\n",
        "  elif weight + cargo_weight > 100:\n",
        "    continue\n",
        "  else:\n",
        "    weight += cargo_weight\n",
        "    items.append(cargo_name)\n",
        "\n",
        "print(weight, items)\n"
      ],
      "execution_count": null,
      "outputs": [
        {
          "output_type": "stream",
          "text": [
            "METHOD 1\n",
            "201 ['bananas', 'mattresses', 'dog kennels', 'machine']\n",
            "METHOD 2\n",
            "95 ['bananas', 'mattresses', 'dog kennels', 'machine', 'bananas', 'mattresses', 'dog kennels', 'orange']\n"
          ],
          "name": "stdout"
        }
      ]
    },
    {
      "cell_type": "code",
      "metadata": {
        "colab": {
          "base_uri": "https://localhost:8080/"
        },
        "id": "NIJFcB_xdV5h",
        "outputId": "127a6e4a-b208-49d9-a4f6-f02abda555bd"
      },
      "source": [
        "# HINT: modify the headlines list to verify your loop works with different inputs\n",
        "headlines = [\"Local Bear Eaten by Man\",\n",
        "             \"Legislature Announces New Laws\",\n",
        "             \"Peasant Discovers Violence Inherent in System\",\n",
        "             \"Cat Rescues Fireman Stuck in Tree\",\n",
        "             \"Brave Knight Runs Away\",\n",
        "             \"Papperbok Review: Totally Triffic\"]\n",
        "\n",
        "news_ticker = \"\"\n",
        "# write your loop here\n",
        "\n",
        "for headline in headlines:\n",
        "  news_ticker += headline + \" \"\n",
        "  if len(news_ticker) >= 140:\n",
        "    news_ticker = news_ticker[:140]\n",
        "    break\n",
        "    \n",
        "\n",
        "print(news_ticker)\n",
        "print(len(news_ticker))"
      ],
      "execution_count": null,
      "outputs": [
        {
          "output_type": "stream",
          "text": [
            "Local Bear Eaten by Man Legislature Announces New Laws Peasant Discovers Violence Inherent in System Cat Rescues Fireman Stuck in Tree Brave\n",
            "140\n"
          ],
          "name": "stdout"
        }
      ]
    },
    {
      "cell_type": "code",
      "metadata": {
        "colab": {
          "base_uri": "https://localhost:8080/"
        },
        "id": "OigKH2RHfleR",
        "outputId": "a7021232-177e-4043-a629-064ebfa678e2"
      },
      "source": [
        "check_prime = [26, 39, 51, 53, 57, 79, 85]\n",
        "\n",
        "for num in check_prime:\n",
        "\n",
        "  for i in range(2, num):\n",
        "\n",
        "    if(num % i) == 0:\n",
        "      print(\"{} is not a prime number\".format(num) )\n",
        "      break\n",
        "    \n",
        "    if i == num -1:\n",
        "      print(\"{} is a prime number\".format(num))"
      ],
      "execution_count": null,
      "outputs": [
        {
          "output_type": "stream",
          "text": [
            "26 is not a prime\n",
            "39 is not a prime\n",
            "51 is not a prime\n",
            "53 is a prime number\n",
            "57 is not a prime\n",
            "79 is a prime number\n",
            "85 is not a prime\n"
          ],
          "name": "stdout"
        }
      ]
    },
    {
      "cell_type": "markdown",
      "metadata": {
        "id": "3-JNXJln0XQB"
      },
      "source": [
        "# Zip and Enumerate\n",
        "* Zip return an interator that combines multiple iterables into one sequence of tuples.\n",
        "* Zip can also be used to unzip a list into tuples using asterisk '*'.\n",
        "* Enumerate returns an iterator of tuples containing indices and values of a list."
      ]
    },
    {
      "cell_type": "code",
      "metadata": {
        "colab": {
          "base_uri": "https://localhost:8080/"
        },
        "id": "syS2n8iv0Wz_",
        "outputId": "d9f985f7-6b9a-4e3d-9bad-794fde4ebcae"
      },
      "source": [
        "letters = ['a', 'b', 'c']\n",
        "nums = [1, 2, 3]\n",
        "\n",
        "for letter, num in zip(letters, nums):\n",
        "  print(\"{} : {}\".format(letter, num))"
      ],
      "execution_count": null,
      "outputs": [
        {
          "output_type": "stream",
          "text": [
            "a : 1\n",
            "b : 2\n",
            "c : 3\n"
          ],
          "name": "stdout"
        }
      ]
    },
    {
      "cell_type": "code",
      "metadata": {
        "colab": {
          "base_uri": "https://localhost:8080/"
        },
        "id": "HsFXQMFqhjWk",
        "outputId": "a9c7b564-7837-4484-9265-364c32b54568"
      },
      "source": [
        "some_list = [('a', 1), ('b', 2), ('c', 3)]\n",
        "letters, num = zip(*some_list)\n",
        "print(letters, num)"
      ],
      "execution_count": null,
      "outputs": [
        {
          "output_type": "stream",
          "text": [
            "('a', 'b', 'c') (1, 2, 3)\n"
          ],
          "name": "stdout"
        }
      ]
    },
    {
      "cell_type": "code",
      "metadata": {
        "colab": {
          "base_uri": "https://localhost:8080/"
        },
        "id": "YMChmlRG1jiM",
        "outputId": "daba3fbf-cf90-4f41-f778-736aa13ab032"
      },
      "source": [
        "letters = ['a', 'b', 'c', 'd', 'e']\n",
        "for i, letter in enumerate(letters):\n",
        "  print(i, letter)"
      ],
      "execution_count": null,
      "outputs": [
        {
          "output_type": "stream",
          "text": [
            "0 a\n",
            "1 b\n",
            "2 c\n",
            "3 d\n",
            "4 e\n"
          ],
          "name": "stdout"
        }
      ]
    },
    {
      "cell_type": "code",
      "metadata": {
        "colab": {
          "base_uri": "https://localhost:8080/"
        },
        "id": "lYkK2gV91z20",
        "outputId": "c8d134d4-ee64-4a5b-965a-9305474925f1"
      },
      "source": [
        "x_coord = [23, 53, 2, -12, 95, 103, 14, -5]\n",
        "y_coord = [677, 233, 405, 433, 905, 376, 432, 445]\n",
        "z_coord = [4, 16, -6, -42, 3, -6, 23, -1]\n",
        "labels = [\"F\", \"J\", \"A\", \"Q\", \"Y\", \"B\", \"W\", \"X\"]\n",
        "\n",
        "points = []\n",
        "\n",
        "for point in zip(labels, x_coord, y_coord,z_coord):\n",
        "  points.append(\"{}: {}, {}, {}\".format(*point))\n",
        "for point in points:\n",
        "  print(point)"
      ],
      "execution_count": null,
      "outputs": [
        {
          "output_type": "stream",
          "text": [
            "F: 23, 677, 4\n",
            "J: 53, 233, 16\n",
            "A: 2, 405, -6\n",
            "Q: -12, 433, -42\n",
            "Y: 95, 905, 3\n",
            "B: 103, 376, -6\n",
            "W: 14, 432, 23\n",
            "X: -5, 445, -1\n"
          ],
          "name": "stdout"
        }
      ]
    },
    {
      "cell_type": "markdown",
      "metadata": {
        "id": "T81NhpppY5DH"
      },
      "source": [
        "# List Comprehension"
      ]
    },
    {
      "cell_type": "code",
      "metadata": {
        "id": "qhWdkTTx2ix3",
        "colab": {
          "base_uri": "https://localhost:8080/"
        },
        "outputId": "be507844-628a-4778-a459-66f2a9594433"
      },
      "source": [
        "#Extract first name in lower case \n",
        "\n",
        "names = [\"Rick Sanchez\", \"Morty Smith\", \"Summer Smith\", \"Jerry Smith\", \"Beth Smith\"]\n",
        "\n",
        "first_names = [name.split()[0].lower() for name in names] \n",
        "print(first_names)"
      ],
      "execution_count": null,
      "outputs": [
        {
          "output_type": "stream",
          "text": [
            "['rick', 'morty', 'summer', 'jerry', 'beth']\n"
          ],
          "name": "stdout"
        }
      ]
    },
    {
      "cell_type": "code",
      "metadata": {
        "colab": {
          "base_uri": "https://localhost:8080/"
        },
        "id": "8uK393HqZeYX",
        "outputId": "8c7900bb-336a-41f0-ad2e-70520274858a"
      },
      "source": [
        "#Use a list comprehension to create a list multiples_3 containing the first 20 multiples of 3.\n",
        "\n",
        "multiples_3 = [number*3 for number in range(1,21)]     \n",
        "print(multiples_3)\n",
        "\n"
      ],
      "execution_count": null,
      "outputs": [
        {
          "output_type": "stream",
          "text": [
            "[3, 6, 9, 12, 15, 18, 21, 24, 27, 30, 33, 36, 39, 42, 45, 48, 51, 54, 57, 60]\n"
          ],
          "name": "stdout"
        }
      ]
    },
    {
      "cell_type": "code",
      "metadata": {
        "colab": {
          "base_uri": "https://localhost:8080/"
        },
        "id": "PJ1639VqaGIs",
        "outputId": "1844f219-bfad-4381-932e-70b046b4ff42"
      },
      "source": [
        "#Use a list comprehension to create a list of names passed that only include those that scored at least 65.\n",
        "\n",
        "scores = {\n",
        "             \"Rick Sanchez\": 70,\n",
        "             \"Morty Smith\": 35,\n",
        "             \"Summer Smith\": 82,\n",
        "             \"Jerry Smith\": 23,\n",
        "             \"Beth Smith\": 98\n",
        "          }\n",
        "\n",
        "passed = [name for name, score in scores.items() if score >= 65]\n",
        "print(passed)\n",
        "\n"
      ],
      "execution_count": null,
      "outputs": [
        {
          "output_type": "stream",
          "text": [
            "['Rick Sanchez', 'Summer Smith', 'Beth Smith']\n"
          ],
          "name": "stdout"
        }
      ]
    },
    {
      "cell_type": "code",
      "metadata": {
        "id": "_R33T-QVa8V4"
      },
      "source": [
        ""
      ],
      "execution_count": null,
      "outputs": []
    }
  ]
}