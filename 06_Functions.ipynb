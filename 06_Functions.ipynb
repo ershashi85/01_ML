{
  "nbformat": 4,
  "nbformat_minor": 0,
  "metadata": {
    "colab": {
      "name": "06_Functions.ipynb",
      "provenance": [],
      "collapsed_sections": []
    },
    "kernelspec": {
      "name": "python3",
      "display_name": "Python 3"
    },
    "language_info": {
      "name": "python"
    }
  },
  "cells": [
    {
      "cell_type": "markdown",
      "metadata": {
        "id": "xozCUu_uJvNt"
      },
      "source": [
        "# Functions\n",
        "* Defining Functions\n",
        "* Variable Scope\n",
        "* Documentation\n",
        "* Lambda Expressions\n",
        "* Iterators and Generators\n",
        "\n",
        "###1. Defining Function\n",
        "\n",
        "* def func_name(arg1, arg2,..,argn):\n",
        "* body of a function with an indendtation \n",
        "* return\n",
        "* arg can be defined with default values\n",
        "* function call supports with the argument name and assigned values.\n",
        "\n",
        "###2. Variable Scope\n",
        "* Define scope of a variable e.g. local to function or global variables\n",
        "* local variables scope is limited to the function\n",
        "* Global variables defined outside the function and can be read in the function body.\n",
        "* Python does not allow direct modify operation on the global variables. So global variables can be accessed by passing as an argument to the function.\n",
        "\n",
        "###3. Documentation\n",
        "* Documentation string or docstring are a type of comment used to explain the purpose of a function.\n",
        "* it starts and ends with 3 quotes \"\"\" <Comment> \"\"\"\n",
        "\n",
        "###4. Lambda Expression\n",
        "* For creating quick short function/expression without a name.\n",
        "* The \"lambda\" keyword to create a functions.\n",
        "* Following lambda are one or more arguments for the anonymous function separated by commas, followed by a colon :. Similar to functions, the way the arguments are named in a lambda expression is arbitrary.\n",
        "* Last is an expression that is evaluated and returned in this function. This is a lot like an expression you might see as a return statement in a function.\n"
      ]
    },
    {
      "cell_type": "markdown",
      "metadata": {
        "id": "oRnsrbSoQ3gy"
      },
      "source": [
        "# Examples"
      ]
    },
    {
      "cell_type": "markdown",
      "metadata": {
        "id": "I3pJWk97Q9Ij"
      },
      "source": [
        "##1. Defining Functions"
      ]
    },
    {
      "cell_type": "markdown",
      "metadata": {
        "id": "6vycuKoJSgmc"
      },
      "source": [
        "###1.1 defining function"
      ]
    },
    {
      "cell_type": "code",
      "metadata": {
        "colab": {
          "base_uri": "https://localhost:8080/"
        },
        "id": "OMi_peSiJujR",
        "outputId": "67e20a33-d7e4-4834-f23a-6a95be2d0324"
      },
      "source": [
        "def cylinder_volume(height, radius):\n",
        "  pi = 3.14159\n",
        "  return pi * height * radius**2\n",
        "\n",
        "volume  = cylinder_volume(10,3)\n",
        "\n",
        "print(volume)\n"
      ],
      "execution_count": 2,
      "outputs": [
        {
          "output_type": "stream",
          "text": [
            "282.7431\n"
          ],
          "name": "stdout"
        }
      ]
    },
    {
      "cell_type": "markdown",
      "metadata": {
        "id": "6-rZVE3OSlzN"
      },
      "source": [
        "###1.2 argument with default values"
      ]
    },
    {
      "cell_type": "code",
      "metadata": {
        "colab": {
          "base_uri": "https://localhost:8080/"
        },
        "id": "krkV1zdoS2Pu",
        "outputId": "80476fbf-a8b7-48bf-e434-d6401c0f605e"
      },
      "source": [
        "def cylinder_volume(height, radius = 3):\n",
        "  pi = 3.14159\n",
        "  volume = pi * height * radius ** 2\n",
        "  return volume\n",
        "\n",
        "print(\"Cylinder volume is :{}\".format(cylinder_volume(10)))"
      ],
      "execution_count": 4,
      "outputs": [
        {
          "output_type": "stream",
          "text": [
            "Cylinder volume is :282.7431\n"
          ],
          "name": "stdout"
        }
      ]
    },
    {
      "cell_type": "code",
      "metadata": {
        "colab": {
          "base_uri": "https://localhost:8080/"
        },
        "id": "FV5H32MDTRy9",
        "outputId": "09524911-152b-4f12-9496-11c299b16627"
      },
      "source": [
        "print(\"Cylinder volume changed to : {}\".format(cylinder_volume(10,5)))"
      ],
      "execution_count": 5,
      "outputs": [
        {
          "output_type": "stream",
          "text": [
            "Cylinder volume changed to : 785.3975\n"
          ],
          "name": "stdout"
        }
      ]
    },
    {
      "cell_type": "code",
      "metadata": {
        "colab": {
          "base_uri": "https://localhost:8080/"
        },
        "id": "7XDioCibT4Gy",
        "outputId": "b708ff1c-44b9-430f-a2fe-ca403a5c1d29"
      },
      "source": [
        "print(\"Cylinder volume is {}\".format(cylinder_volume(height = 10, radius = 3)))"
      ],
      "execution_count": 9,
      "outputs": [
        {
          "output_type": "stream",
          "text": [
            "Cylinder volume is 282.7431\n"
          ],
          "name": "stdout"
        }
      ]
    },
    {
      "cell_type": "markdown",
      "metadata": {
        "id": "xwi3Er-5sLgQ"
      },
      "source": [
        "#2 Variable Scope"
      ]
    },
    {
      "cell_type": "code",
      "metadata": {
        "colab": {
          "base_uri": "https://localhost:8080/"
        },
        "id": "wKJY5uAds3T_",
        "outputId": "5d8de739-1fdc-4dc9-a172-367890cf2098"
      },
      "source": [
        "count = 0\n",
        "def count_func():\n",
        "  print(count)\n",
        "\n",
        "count_func()"
      ],
      "execution_count": 12,
      "outputs": [
        {
          "output_type": "stream",
          "text": [
            "0\n"
          ],
          "name": "stdout"
        }
      ]
    },
    {
      "cell_type": "code",
      "metadata": {
        "colab": {
          "base_uri": "https://localhost:8080/"
        },
        "id": "0JmDMfAQs-12",
        "outputId": "42346b10-465d-48a8-d259-ae034df5c4d1"
      },
      "source": [
        "var_count = 0\n",
        "\n",
        "def count_modify(count):\n",
        "  return count + 20\n",
        "\n",
        "print(\"New count {}\".format(count_modify(var_count)))"
      ],
      "execution_count": 16,
      "outputs": [
        {
          "output_type": "stream",
          "text": [
            "New count 20\n"
          ],
          "name": "stdout"
        }
      ]
    },
    {
      "cell_type": "markdown",
      "metadata": {
        "id": "Vs317n0uZD8w"
      },
      "source": [
        "##3. Documentation"
      ]
    },
    {
      "cell_type": "code",
      "metadata": {
        "id": "TfLdgXNVZDv8"
      },
      "source": [
        "def readable_timedelta(days):\n",
        "    \"\"\" The purpose of the function is to provide number of weeks and days based on the days input\n",
        "    Input:\n",
        "    days\n",
        "    Output:\n",
        "    weeks, days left\n",
        "    \"\"\"\n",
        "\n",
        "    weeks = days // 7\n",
        "    remainder = days % 7\n",
        "    return \"{} week(s) and {} day(s)\".format(weeks, remainder)"
      ],
      "execution_count": 1,
      "outputs": []
    },
    {
      "cell_type": "markdown",
      "metadata": {
        "id": "yOD4xQ4jkiVT"
      },
      "source": [
        "##4. Lambda Function "
      ]
    },
    {
      "cell_type": "code",
      "metadata": {
        "colab": {
          "base_uri": "https://localhost:8080/"
        },
        "id": "s00_JG19uXKx",
        "outputId": "0bd0e2d2-b954-47af-ad85-fe65a53676b4"
      },
      "source": [
        "multiply = lambda x,y : x * y\n",
        "\n",
        "print(multiply(2,3))"
      ],
      "execution_count": 2,
      "outputs": [
        {
          "output_type": "stream",
          "text": [
            "6\n"
          ],
          "name": "stdout"
        }
      ]
    },
    {
      "cell_type": "code",
      "metadata": {
        "id": "rZC6Kxcbkwig"
      },
      "source": [
        ""
      ],
      "execution_count": null,
      "outputs": []
    }
  ]
}