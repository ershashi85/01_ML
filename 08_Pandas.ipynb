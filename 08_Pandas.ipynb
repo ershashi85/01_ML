{
  "nbformat": 4,
  "nbformat_minor": 0,
  "metadata": {
    "colab": {
      "name": "08_Pandas.ipynb",
      "provenance": [],
      "collapsed_sections": []
    },
    "kernelspec": {
      "name": "python3",
      "display_name": "Python 3"
    },
    "language_info": {
      "name": "python"
    }
  },
  "cells": [
    {
      "cell_type": "markdown",
      "metadata": {
        "id": "FLGmgWm9Xg5Y"
      },
      "source": [
        "# Pandas\n",
        "* Derived from econometrics term Panel Data.\n",
        "* Package for data manipulation and analysis.\n",
        "* Includes 2 additional data structures into Python\n",
        "  * Pandas Series \n",
        "  * Pandas DataFrame\n",
        "* A Panda series is a One-Dimensional array like object that can hold many data types such as numbers or strings. \n",
        "* Each element in a series can be index label.\n",
        "* Pandas series are also mutable like Numpy.\n",
        "* Some of the features includes:\n",
        "  * Allows the use of labels for rows and columns\n",
        "  * Can calculate rolling stastics on time series data\n",
        "  * Easy handling of NaN values\n",
        "  * Is able to load data of different formats into DataFrames.\n",
        "  * Can join and merge different datasets together\n",
        "  * It integrates with NumPy and Matplotlib\n",
        "  \n",
        "\n"
      ]
    },
    {
      "cell_type": "markdown",
      "metadata": {
        "id": "hEnVGQO605kM"
      },
      "source": [
        "## Pandas Series"
      ]
    },
    {
      "cell_type": "code",
      "metadata": {
        "id": "Fv5QBW9yXZW5",
        "colab": {
          "base_uri": "https://localhost:8080/"
        },
        "outputId": "e00e9ee8-851e-42e7-8f23-db0d10ee7aac"
      },
      "source": [
        "import pandas as pd\n",
        "\n",
        "groc = pd.Series(data = [30,50, 'Yes', 'No'], index = ['wheat', 'mangos', 'candy', 'medicine'])\n",
        "\n",
        "print(groc)\n",
        "print()\n",
        "print('Gorc has shape: ', groc.shape)\n",
        "print('Groc has dimension: ', groc.ndim)\n",
        "print('Groc has a total elements = ', groc.size)\n",
        "\n",
        "print()\n",
        "print('The data in groc is: ', groc.values)\n",
        "print('The index of groc is: ', groc.index)\n",
        "\n",
        "\n"
      ],
      "execution_count": null,
      "outputs": [
        {
          "output_type": "stream",
          "text": [
            "wheat        30\n",
            "mangos       50\n",
            "candy       Yes\n",
            "medicine     No\n",
            "dtype: object\n",
            "\n",
            "Gorc has shape:  (4,)\n",
            "Groc has dimension:  1\n",
            "Groc has a total elements =  4\n",
            "\n",
            "The data in groc is:  [30 50 'Yes' 'No']\n",
            "The index of groc is:  Index(['wheat', 'mangos', 'candy', 'medicine'], dtype='object')\n"
          ],
          "name": "stdout"
        }
      ]
    },
    {
      "cell_type": "markdown",
      "metadata": {
        "id": "t6ZUUJNtOJeF"
      },
      "source": [
        "### Checking indexe label exist"
      ]
    },
    {
      "cell_type": "code",
      "metadata": {
        "colab": {
          "base_uri": "https://localhost:8080/"
        },
        "id": "laG1qEIDLui5",
        "outputId": "bd2a7a6b-3525-461f-ed1e-2ba6bf428bfa"
      },
      "source": [
        "print('Is mangos an index label in Groc : ', 'mangos' in groc)\n",
        "\n",
        "y = 'cough-syrup' in groc\n",
        "print('Is cough-syrup an index label in Groc', y)"
      ],
      "execution_count": null,
      "outputs": [
        {
          "output_type": "stream",
          "text": [
            "Is mangos an index label in Groc :  True\n",
            "Is cough-syrup an index label in Groc False\n"
          ],
          "name": "stdout"
        }
      ]
    },
    {
      "cell_type": "markdown",
      "metadata": {
        "id": "jFh07rXpQHFU"
      },
      "source": [
        "### Accessing elements in Pandas\n",
        "* Elements can be accessed using INDEX LABEL or NUMERICAL INDICES inside square brackets[].\n",
        "* Numerical Indices are similar approach as in NumPy. Both Postive or Negative indices can be used to access the elements.\n",
        "* '.loc' attribute used explicitly for labeled index.\n",
        "* '.iloc' attribute used for numerical index.\n",
        "\n",
        "\n"
      ]
    },
    {
      "cell_type": "code",
      "metadata": {
        "colab": {
          "base_uri": "https://localhost:8080/"
        },
        "id": "Vj4Gr4hTOj5S",
        "outputId": "64bc404a-7b75-47da-e888-3827c73c9369"
      },
      "source": [
        "print(\"Value for 'Wheat' is : \", groc['wheat'])\n",
        "print()\n",
        "print(\"Value for 'Wheat' is : \", groc.loc['wheat'])\n",
        "print()\n",
        "print(\"Values for 'Wheat' and 'Mangos' are : \", groc[['wheat', 'mangos']])\n",
        "print()\n",
        "print(\"Values for 'Wheat' and 'Mangos' are : \", groc.loc[['wheat', 'mangos']])\n",
        "print()\n",
        "print(\"Values for 'Wheat' and 'Mangos' are : \", groc[[0,1]])\n",
        "print()\n",
        "print(\"Values for 'Wheat' and 'Mangos' are : \", groc.iloc[[0,1]])\n",
        "print()\n",
        "print(\"Values for 'Wheat' and 'Mangos' are : \", groc[[-4,-3]])"
      ],
      "execution_count": null,
      "outputs": [
        {
          "output_type": "stream",
          "text": [
            "Value for 'Wheat' is :  30\n",
            "\n",
            "Value for 'Wheat' is :  30\n",
            "\n",
            "Values for 'Wheat' and 'Mangos' are :  wheat     30\n",
            "mangos    50\n",
            "dtype: object\n",
            "\n",
            "Values for 'Wheat' and 'Mangos' are :  wheat     30\n",
            "mangos    50\n",
            "dtype: object\n",
            "\n",
            "Values for 'Wheat' and 'Mangos' are :  wheat     30\n",
            "mangos    50\n",
            "dtype: object\n",
            "\n",
            "Values for 'Wheat' and 'Mangos' are :  wheat     30\n",
            "mangos    50\n",
            "dtype: object\n",
            "\n",
            "Values for 'Wheat' and 'Mangos' are :  wheat     30\n",
            "mangos    50\n",
            "dtype: object\n"
          ],
          "name": "stdout"
        }
      ]
    },
    {
      "cell_type": "markdown",
      "metadata": {
        "id": "8EfKVX86UjtH"
      },
      "source": [
        "### Modifying/Adding elements"
      ]
    },
    {
      "cell_type": "code",
      "metadata": {
        "colab": {
          "base_uri": "https://localhost:8080/"
        },
        "id": "U_ZfDDyBRxox",
        "outputId": "e2813016-c9c0-4358-b3bd-3561a00e2eaf"
      },
      "source": [
        "print(\"Original groc list: \\n\", groc)\n",
        "print()\n",
        "groc['wheat'] = 27 # Modified\n",
        "\n",
        "groc['grains'] = 110 # Adding the elements\n",
        "print()\n",
        "print('Modified groc list is : \\n', groc)"
      ],
      "execution_count": null,
      "outputs": [
        {
          "output_type": "stream",
          "text": [
            "Original groc list: \n",
            " wheat        27\n",
            "mangos       50\n",
            "candy       Yes\n",
            "medicine     No\n",
            "dtype: object\n",
            "\n",
            "\n",
            "Modified groc list is : \n",
            " wheat        27\n",
            "mangos       50\n",
            "candy       Yes\n",
            "medicine     No\n",
            "grains      110\n",
            "dtype: object\n"
          ],
          "name": "stdout"
        }
      ]
    },
    {
      "cell_type": "markdown",
      "metadata": {
        "id": "G7YoYXlDVwWj"
      },
      "source": [
        "### Deleting elements in Pandas\n",
        "* .drop() method is used to drop the elements from the list. But it keeps the original list unchanged.\n",
        "* inplace = True, attribute in .drop() method deletes the element from the list."
      ]
    },
    {
      "cell_type": "code",
      "metadata": {
        "colab": {
          "base_uri": "https://localhost:8080/"
        },
        "id": "JWeiyaI6VTFk",
        "outputId": "91bc68d8-fd14-46ea-94f6-5ab04f333c45"
      },
      "source": [
        "print('Original Groc list is : \\n', groc)\n",
        "print()\n",
        "new_groc = groc.drop(['mangos', 'candy'])\n",
        "print('New groc lis = \\n', new_groc)\n",
        "print()\n",
        "print('Original groc list is : \\n', groc)\n",
        "print()\n",
        "new_groc['rice'] = 45\n",
        "print('New groc list is : \\n', new_groc)\n",
        "print()\n",
        "print('Original groc list : \\n', groc)\n",
        "print()\n",
        "new_groc.drop('rice', inplace=True)\n",
        "print('Deleting elements from new groc list : \\n', new_groc)"
      ],
      "execution_count": null,
      "outputs": [
        {
          "output_type": "stream",
          "text": [
            "Original Groc list is : \n",
            " wheat        27\n",
            "mangos       50\n",
            "candy       Yes\n",
            "medicine     No\n",
            "dtype: object\n",
            "\n",
            "New groc lis = \n",
            " wheat       27\n",
            "medicine    No\n",
            "dtype: object\n",
            "\n",
            "Original groc list is : \n",
            " wheat        27\n",
            "mangos       50\n",
            "candy       Yes\n",
            "medicine     No\n",
            "dtype: object\n",
            "\n",
            "New groc list is : \n",
            " wheat       27\n",
            "medicine    No\n",
            "rice        45\n",
            "dtype: object\n",
            "\n",
            "Original groc list : \n",
            " wheat        27\n",
            "mangos       50\n",
            "candy       Yes\n",
            "medicine     No\n",
            "dtype: object\n",
            "\n",
            "Deleting elements from new groc list : \n",
            " wheat       27\n",
            "medicine    No\n",
            "dtype: object\n"
          ],
          "name": "stdout"
        }
      ]
    },
    {
      "cell_type": "markdown",
      "metadata": {
        "id": "MwPNnfMFYY3k"
      },
      "source": [
        "### Arithmetic operation"
      ]
    },
    {
      "cell_type": "code",
      "metadata": {
        "colab": {
          "base_uri": "https://localhost:8080/"
        },
        "id": "r-nZFhTRXAxU",
        "outputId": "b51f7735-4daf-42b1-92b1-94bb2c7e9865"
      },
      "source": [
        "fruits= pd.Series(data = [10, 6, 3,], index = ['apples', 'oranges', 'bananas'])\n",
        "print('')"
      ],
      "execution_count": null,
      "outputs": [
        {
          "output_type": "stream",
          "text": [
            "\n"
          ],
          "name": "stdout"
        }
      ]
    },
    {
      "cell_type": "code",
      "metadata": {
        "id": "czkVoy7RZJ68",
        "colab": {
          "base_uri": "https://localhost:8080/"
        },
        "outputId": "849b2ff9-1b92-4ec3-9784-8c094cd52b97"
      },
      "source": [
        "print('Original Inventory \\n', fruits)\n",
        "print()\n",
        "print('Increasing inventory by 2 \\n', fruits + 2)\n",
        "print()\n",
        "print('Increasing inventory of {} to {}'.format(fruits[1], [fruits['oranges']+5]))"
      ],
      "execution_count": null,
      "outputs": [
        {
          "output_type": "stream",
          "text": [
            "Original Inventory \n",
            " apples     10\n",
            "oranges     6\n",
            "bananas     3\n",
            "dtype: int64\n",
            "\n",
            "Increasing inventory by 2 \n",
            " apples     12\n",
            "oranges     8\n",
            "bananas     5\n",
            "dtype: int64\n",
            "\n",
            "Increasing inventory of 6 to [11]\n"
          ],
          "name": "stdout"
        }
      ]
    },
    {
      "cell_type": "markdown",
      "metadata": {
        "id": "LManZB1u1NOK"
      },
      "source": [
        "## Pandas DataFrames\n",
        "\n",
        "* Pandas DataFrames are two-dimensional data structures with labeled rows and columns, that can hold many data types.\n",
        "* Pandas DataFrames can be created 'Manually' or by 'loading data from a file'.\n",
        "* Rows can be accessed using the keyword 'index'.\n",
        "* Columns can be accessed using the keyword 'columns'.\n",
        "\n",
        "* Manually creating Pandas DataFrames includes:\n",
        "  * Creating Dictionaries using Panda Series OR Dictionary of lists OR Python Dictionary.\n",
        "  * Pass the Dictionary to create a DataFrame using pd.DataFrame() function.\n",
        "  * DataFrame_Name.index will give index labels (rows label info).\n",
        "  * DataFrame_Name.columns will give Column labels info.\n",
        "  * DataFrame_Name.values will give values info.\n",
        "* Partial info related to specific column or index can be access by passing columns=[] or index =[] as the additional argument to pd.DataFrame() functions.\n",
        "* Particular Row or Column having no value is represented by NaN (Not a Number).\n",
        "\n"
      ]
    },
    {
      "cell_type": "markdown",
      "metadata": {
        "id": "H3IiTQRO-OmK"
      },
      "source": [
        "### DataFrames creation using Pandas Series"
      ]
    },
    {
      "cell_type": "code",
      "metadata": {
        "colab": {
          "base_uri": "https://localhost:8080/"
        },
        "id": "WQaOx_BT-mVu",
        "outputId": "80d1894a-806c-4d13-c549-31240020a993"
      },
      "source": [
        "import pandas as pd\n",
        "\n",
        "items = {'Sam' : pd.Series(data = [434, 123, 345], index = ['Jacket', 'Socks', 'Belt']),\n",
        "          'John' : pd.Series(data = [300, 125, 455, 1200], index = ['Shirt', 'Socks', 'Jacket','Shoes'])}\n",
        "\n",
        "cart = pd.DataFrame(items)\n",
        "\n",
        "print(cart)\n"
      ],
      "execution_count": null,
      "outputs": [
        {
          "output_type": "stream",
          "text": [
            "          Sam    John\n",
            "Belt    345.0     NaN\n",
            "Jacket  434.0   455.0\n",
            "Shirt     NaN   300.0\n",
            "Shoes     NaN  1200.0\n",
            "Socks   123.0   125.0\n"
          ],
          "name": "stdout"
        }
      ]
    },
    {
      "cell_type": "code",
      "metadata": {
        "id": "Rlz9et5X_oG4",
        "colab": {
          "base_uri": "https://localhost:8080/"
        },
        "outputId": "3ecdf709-5cfc-4f1a-9695-03eabd98197c"
      },
      "source": [
        "print('Cart has shape :', cart.shape)\n",
        "print()\n",
        "print('Cart has dimension : ', cart.ndim)\n",
        "print()\n",
        "print('Cart has a total elements :', cart.size)\n",
        "print()\n",
        "print('The data in cart are :\\n', cart.values)\n",
        "print()\n",
        "print('The row index in the cart is: ', cart.index)\n",
        "print()\n",
        "print('The column index in the cart is: ', cart.columns)\n",
        "print()\n"
      ],
      "execution_count": null,
      "outputs": [
        {
          "output_type": "stream",
          "text": [
            "Cart has shape : (5, 2)\n",
            "\n",
            "Cart has dimension :  2\n",
            "\n",
            "Cart has a total elements : 10\n",
            "\n",
            "The data in cart are :\n",
            " [[ 345.   nan]\n",
            " [ 434.  455.]\n",
            " [  nan  300.]\n",
            " [  nan 1200.]\n",
            " [ 123.  125.]]\n",
            "\n",
            "The row index in the cart is:  Index(['Belt', 'Jacket', 'Shirt', 'Shoes', 'Socks'], dtype='object')\n",
            "\n",
            "The column index in the cart is:  Index(['Sam', 'John'], dtype='object')\n",
            "\n"
          ],
          "name": "stdout"
        }
      ]
    },
    {
      "cell_type": "markdown",
      "metadata": {
        "id": "3R9Lm-KMh80z"
      },
      "source": [
        "#### Passing Subset of data (partial information):\n",
        " "
      ]
    },
    {
      "cell_type": "code",
      "metadata": {
        "colab": {
          "base_uri": "https://localhost:8080/"
        },
        "id": "6djQRaOehcfF",
        "outputId": "5a985563-9f69-4a9b-ad0a-768a75019619"
      },
      "source": [
        "# Creating DataFrames using column subset\n",
        "sam_cart = pd.DataFrame(items, columns = ['Sam'])\n",
        "\n",
        "print(sam_cart)\n",
        "print()\n",
        "\n",
        "sam_cart1 = pd.DataFrame(items, columns = ['Sam'], index=['Belt','Jacket','Shoes','Shirt','Shirt'])\n",
        "print(sam_cart1)"
      ],
      "execution_count": null,
      "outputs": [
        {
          "output_type": "stream",
          "text": [
            "        Sam\n",
            "Jacket  434\n",
            "Socks   123\n",
            "Belt    345\n",
            "\n",
            "          Sam\n",
            "Belt    345.0\n",
            "Jacket  434.0\n",
            "Shoes     NaN\n",
            "Shirt     NaN\n",
            "Shirt     NaN\n"
          ],
          "name": "stdout"
        }
      ]
    },
    {
      "cell_type": "markdown",
      "metadata": {
        "id": "essXMxGGmRhI"
      },
      "source": [
        "#### DataFrame creation using Dictionary of List\n",
        "* Process is same for creating Data Frames using dictionary of list (array).\n",
        "* *Please note ==> All the lists(array) must be of the same length.*\n",
        "* Pandas automatically use numerical row indexes (starting 0) if label is not provided.\n",
        "* Label for index can be provided using additional attribute index in pd.DataFrame()"
      ]
    },
    {
      "cell_type": "code",
      "metadata": {
        "colab": {
          "base_uri": "https://localhost:8080/"
        },
        "id": "w9bS96WIjT0X",
        "outputId": "036b3249-2697-4130-aac7-f4e930d4c8d6"
      },
      "source": [
        "data = {\n",
        "    'Integers' : [1,2,3],\n",
        "    'Floats' : [4.5,6.6,8.4]\n",
        "}\n",
        "\n",
        "print(data)\n",
        "print()\n",
        "\n",
        "df = pd.DataFrame(data)\n",
        "print(df)\n",
        "print()\n",
        "df = pd.DataFrame(data, index = ['label 1', 'label 2', 'label 3'])\n",
        "print(df)"
      ],
      "execution_count": null,
      "outputs": [
        {
          "output_type": "stream",
          "text": [
            "{'Integers': [1, 2, 3], 'Floats': [4.5, 6.6, 8.4]}\n",
            "\n",
            "   Integers  Floats\n",
            "0         1     4.5\n",
            "1         2     6.6\n",
            "2         3     8.4\n",
            "\n",
            "         Integers  Floats\n",
            "label 1         1     4.5\n",
            "label 2         2     6.6\n",
            "label 3         3     8.4\n"
          ],
          "name": "stdout"
        }
      ]
    },
    {
      "cell_type": "markdown",
      "metadata": {
        "id": "bb7OEc0ztoNI"
      },
      "source": [
        "#### DataFrame creation using List of Python Dictionary"
      ]
    },
    {
      "cell_type": "code",
      "metadata": {
        "colab": {
          "base_uri": "https://localhost:8080/"
        },
        "id": "ZyYp-KZ2m0pb",
        "outputId": "40748038-f03d-4b1d-c2b9-09b9beb3abbe"
      },
      "source": [
        "import pandas as pd\n",
        "\n",
        "items2 = [\n",
        "          {'bike':20, 'pants':30, 'watches':35},\n",
        "          {'watches' : 10, 'glass':50, 'bikes':15, 'pants':5}                    \n",
        "]\n",
        "\n",
        "store_items = pd.DataFrame(items2)\n",
        "\n",
        "print(store_items)\n",
        "print()\n",
        "store_items = pd.DataFrame(items2, index = ['store 1','store 2'])\n",
        "print(store_items)"
      ],
      "execution_count": null,
      "outputs": [
        {
          "output_type": "stream",
          "text": [
            "   bike  pants  watches  glass  bikes\n",
            "0  20.0     30       35    NaN    NaN\n",
            "1   NaN      5       10   50.0   15.0\n",
            "\n",
            "         bike  pants  watches  glass  bikes\n",
            "store 1  20.0     30       35    NaN    NaN\n",
            "store 2   NaN      5       10   50.0   15.0\n"
          ],
          "name": "stdout"
        }
      ]
    },
    {
      "cell_type": "markdown",
      "metadata": {
        "id": "ufmw82K2cd2S"
      },
      "source": [
        "Accessing Elements in Pandas DataFrames\n",
        "* Data Elements can be accessed using dataframe[column][row]"
      ]
    },
    {
      "cell_type": "code",
      "metadata": {
        "colab": {
          "base_uri": "https://localhost:8080/"
        },
        "id": "cMMmGUAHt1O3",
        "outputId": "a91981e9-c27c-45c9-c621-e1ddc1b2d405"
      },
      "source": [
        "print(store_items)\n",
        "\n",
        "print('How many bikes in each store : ', store_items[['bike']])\n",
        "print()\n",
        "print('How many bikes in store 1 : ', store_items['bike']['store 1'])\n",
        "print()\n",
        "print('How many bike and pants are in each store : \\n', store_items[['bike','pants']])\n",
        "print()\n",
        "print('How many watches in store 2: \\n', store_items['watches']['store 2'])\n"
      ],
      "execution_count": null,
      "outputs": [
        {
          "output_type": "stream",
          "text": [
            "         bike  pants  watches  glass  bikes\n",
            "store 1  20.0     30       35    NaN    NaN\n",
            "store 2   NaN      5       10   50.0   15.0\n",
            "How many bikes in each store :           bike\n",
            "store 1  20.0\n",
            "store 2   NaN\n",
            "\n",
            "How many bikes in store 1 :  20.0\n",
            "\n",
            "How many bike and pants are in each store : \n",
            "          bike  pants\n",
            "store 1  20.0     30\n",
            "store 2   NaN      5\n",
            "\n",
            "How many watches in store 2: \n",
            " 10\n"
          ],
          "name": "stdout"
        }
      ]
    },
    {
      "cell_type": "markdown",
      "metadata": {
        "id": "rC-9J-jQjF_H"
      },
      "source": [
        "Adding elements to the dataframe"
      ]
    },
    {
      "cell_type": "code",
      "metadata": {
        "colab": {
          "base_uri": "https://localhost:8080/"
        },
        "id": "3PWk5gTia7XB",
        "outputId": "b3b5bcd6-cd0f-4e88-9166-9dae0cd7f400"
      },
      "source": [
        "store_items['shirts'] = [20,5]\n",
        "print(store_items)"
      ],
      "execution_count": null,
      "outputs": [
        {
          "output_type": "stream",
          "text": [
            "         bike  pants  watches  glass  bikes  shirts\n",
            "store 1  20.0     30       35    NaN    NaN      20\n",
            "store 2   NaN      5       10   50.0   15.0       5\n"
          ],
          "name": "stdout"
        }
      ]
    },
    {
      "cell_type": "code",
      "metadata": {
        "id": "oPrc92ujjUrN",
        "colab": {
          "base_uri": "https://localhost:8080/"
        },
        "outputId": "3fcbb2fc-8be1-45c7-a49a-00c34b02cd94"
      },
      "source": [
        "new_items = [{'bikes':20, 'pants':30, 'watches':50}]\n",
        "\n",
        "new_store = pd.DataFrame(new_items, index = ['srote 3'])\n",
        "\n",
        "print(new_items)"
      ],
      "execution_count": null,
      "outputs": [
        {
          "output_type": "stream",
          "text": [
            "[{'bikes': 20, 'pants': 30, 'watches': 50}]\n"
          ],
          "name": "stdout"
        }
      ]
    },
    {
      "cell_type": "markdown",
      "metadata": {
        "id": "pqNtIT3ADDl9"
      },
      "source": [
        "Append method to add new row dataframe"
      ]
    },
    {
      "cell_type": "code",
      "metadata": {
        "colab": {
          "base_uri": "https://localhost:8080/"
        },
        "id": "HWhMQBgXDBEl",
        "outputId": "7474e7ca-3e09-42ef-eb05-772ac7dbb81f"
      },
      "source": [
        "print('Original store items :\\n', store_items)\n",
        "print()\n",
        "print()\n",
        "store_items = store_items.append(new_store)\n",
        "print('Data append at the end')\n",
        "print(store_items)\n"
      ],
      "execution_count": null,
      "outputs": [
        {
          "output_type": "stream",
          "text": [
            "Original store items :\n",
            "          bike  pants  watches  glass  bikes  shirts\n",
            "store 1  20.0     30       35    NaN    NaN      20\n",
            "store 2   NaN      5       10   50.0   15.0       5\n",
            "\n",
            "\n",
            "Data append at the end\n",
            "         bike  pants  watches  glass  bikes  shirts\n",
            "store 1  20.0     30       35    NaN    NaN    20.0\n",
            "store 2   NaN      5       10   50.0   15.0     5.0\n",
            "srote 3   NaN     30       50    NaN   20.0     NaN\n"
          ],
          "name": "stdout"
        }
      ]
    },
    {
      "cell_type": "markdown",
      "metadata": {
        "id": "Bw-DtqFsEG07"
      },
      "source": [
        "Adding new column at the END using existing data in DataFrame"
      ]
    },
    {
      "cell_type": "code",
      "metadata": {
        "colab": {
          "base_uri": "https://localhost:8080/"
        },
        "id": "u6km33yQDQqu",
        "outputId": "5fcbc7f9-07c3-4c27-ae43-d3604942a1d3"
      },
      "source": [
        "store_items['new watches'] = store_items['watches'][1:]\n",
        "print(store_items)"
      ],
      "execution_count": null,
      "outputs": [
        {
          "output_type": "stream",
          "text": [
            "         pants  watches  shoes  glass  bikes  shirts  new watches\n",
            "store 1     30       35      8    NaN    NaN    20.0          NaN\n",
            "store 2      5       10      5   50.0   15.0     5.0         10.0\n",
            "srote 3     30       50      6    NaN   20.0     NaN         50.0\n"
          ],
          "name": "stdout"
        }
      ]
    },
    {
      "cell_type": "markdown",
      "metadata": {
        "id": "h7SN_MrkE2Ej"
      },
      "source": [
        "Adding new column into DataFrame anywhere using insert function"
      ]
    },
    {
      "cell_type": "code",
      "metadata": {
        "colab": {
          "base_uri": "https://localhost:8080/",
          "height": 320
        },
        "id": "7uyO1NqcEm-u",
        "outputId": "0683bdc1-4297-4b6b-aec4-2110f9463708"
      },
      "source": [
        "store_items.insert(3, 'shoes', [8,5,6])\n",
        "print(store_items)"
      ],
      "execution_count": null,
      "outputs": [
        {
          "output_type": "error",
          "ename": "ValueError",
          "evalue": "ignored",
          "traceback": [
            "\u001b[0;31m---------------------------------------------------------------------------\u001b[0m",
            "\u001b[0;31mValueError\u001b[0m                                Traceback (most recent call last)",
            "\u001b[0;32m<ipython-input-20-5b7c5ed94b38>\u001b[0m in \u001b[0;36m<module>\u001b[0;34m()\u001b[0m\n\u001b[0;32m----> 1\u001b[0;31m \u001b[0mstore_items\u001b[0m\u001b[0;34m.\u001b[0m\u001b[0minsert\u001b[0m\u001b[0;34m(\u001b[0m\u001b[0;36m3\u001b[0m\u001b[0;34m,\u001b[0m \u001b[0;34m'shoes'\u001b[0m\u001b[0;34m,\u001b[0m \u001b[0;34m[\u001b[0m\u001b[0;36m8\u001b[0m\u001b[0;34m,\u001b[0m\u001b[0;36m5\u001b[0m\u001b[0;34m,\u001b[0m\u001b[0;36m6\u001b[0m\u001b[0;34m]\u001b[0m\u001b[0;34m)\u001b[0m\u001b[0;34m\u001b[0m\u001b[0;34m\u001b[0m\u001b[0m\n\u001b[0m\u001b[1;32m      2\u001b[0m \u001b[0mprint\u001b[0m\u001b[0;34m(\u001b[0m\u001b[0mstore_items\u001b[0m\u001b[0;34m)\u001b[0m\u001b[0;34m\u001b[0m\u001b[0;34m\u001b[0m\u001b[0m\n",
            "\u001b[0;32m/usr/local/lib/python3.7/dist-packages/pandas/core/frame.py\u001b[0m in \u001b[0;36minsert\u001b[0;34m(self, loc, column, value, allow_duplicates)\u001b[0m\n\u001b[1;32m   3626\u001b[0m         \u001b[0mself\u001b[0m\u001b[0;34m.\u001b[0m\u001b[0m_ensure_valid_index\u001b[0m\u001b[0;34m(\u001b[0m\u001b[0mvalue\u001b[0m\u001b[0;34m)\u001b[0m\u001b[0;34m\u001b[0m\u001b[0;34m\u001b[0m\u001b[0m\n\u001b[1;32m   3627\u001b[0m         \u001b[0mvalue\u001b[0m \u001b[0;34m=\u001b[0m \u001b[0mself\u001b[0m\u001b[0;34m.\u001b[0m\u001b[0m_sanitize_column\u001b[0m\u001b[0;34m(\u001b[0m\u001b[0mcolumn\u001b[0m\u001b[0;34m,\u001b[0m \u001b[0mvalue\u001b[0m\u001b[0;34m,\u001b[0m \u001b[0mbroadcast\u001b[0m\u001b[0;34m=\u001b[0m\u001b[0;32mFalse\u001b[0m\u001b[0;34m)\u001b[0m\u001b[0;34m\u001b[0m\u001b[0;34m\u001b[0m\u001b[0m\n\u001b[0;32m-> 3628\u001b[0;31m         \u001b[0mself\u001b[0m\u001b[0;34m.\u001b[0m\u001b[0m_mgr\u001b[0m\u001b[0;34m.\u001b[0m\u001b[0minsert\u001b[0m\u001b[0;34m(\u001b[0m\u001b[0mloc\u001b[0m\u001b[0;34m,\u001b[0m \u001b[0mcolumn\u001b[0m\u001b[0;34m,\u001b[0m \u001b[0mvalue\u001b[0m\u001b[0;34m,\u001b[0m \u001b[0mallow_duplicates\u001b[0m\u001b[0;34m=\u001b[0m\u001b[0mallow_duplicates\u001b[0m\u001b[0;34m)\u001b[0m\u001b[0;34m\u001b[0m\u001b[0;34m\u001b[0m\u001b[0m\n\u001b[0m\u001b[1;32m   3629\u001b[0m \u001b[0;34m\u001b[0m\u001b[0m\n\u001b[1;32m   3630\u001b[0m     \u001b[0;32mdef\u001b[0m \u001b[0massign\u001b[0m\u001b[0;34m(\u001b[0m\u001b[0mself\u001b[0m\u001b[0;34m,\u001b[0m \u001b[0;34m**\u001b[0m\u001b[0mkwargs\u001b[0m\u001b[0;34m)\u001b[0m \u001b[0;34m->\u001b[0m \u001b[0;34m\"DataFrame\"\u001b[0m\u001b[0;34m:\u001b[0m\u001b[0;34m\u001b[0m\u001b[0;34m\u001b[0m\u001b[0m\n",
            "\u001b[0;32m/usr/local/lib/python3.7/dist-packages/pandas/core/internals/managers.py\u001b[0m in \u001b[0;36minsert\u001b[0;34m(self, loc, item, value, allow_duplicates)\u001b[0m\n\u001b[1;32m   1184\u001b[0m         \u001b[0;32mif\u001b[0m \u001b[0;32mnot\u001b[0m \u001b[0mallow_duplicates\u001b[0m \u001b[0;32mand\u001b[0m \u001b[0mitem\u001b[0m \u001b[0;32min\u001b[0m \u001b[0mself\u001b[0m\u001b[0;34m.\u001b[0m\u001b[0mitems\u001b[0m\u001b[0;34m:\u001b[0m\u001b[0;34m\u001b[0m\u001b[0;34m\u001b[0m\u001b[0m\n\u001b[1;32m   1185\u001b[0m             \u001b[0;31m# Should this be a different kind of error??\u001b[0m\u001b[0;34m\u001b[0m\u001b[0;34m\u001b[0m\u001b[0;34m\u001b[0m\u001b[0m\n\u001b[0;32m-> 1186\u001b[0;31m             \u001b[0;32mraise\u001b[0m \u001b[0mValueError\u001b[0m\u001b[0;34m(\u001b[0m\u001b[0;34mf\"cannot insert {item}, already exists\"\u001b[0m\u001b[0;34m)\u001b[0m\u001b[0;34m\u001b[0m\u001b[0;34m\u001b[0m\u001b[0m\n\u001b[0m\u001b[1;32m   1187\u001b[0m \u001b[0;34m\u001b[0m\u001b[0m\n\u001b[1;32m   1188\u001b[0m         \u001b[0;32mif\u001b[0m \u001b[0;32mnot\u001b[0m \u001b[0misinstance\u001b[0m\u001b[0;34m(\u001b[0m\u001b[0mloc\u001b[0m\u001b[0;34m,\u001b[0m \u001b[0mint\u001b[0m\u001b[0;34m)\u001b[0m\u001b[0;34m:\u001b[0m\u001b[0;34m\u001b[0m\u001b[0;34m\u001b[0m\u001b[0m\n",
            "\u001b[0;31mValueError\u001b[0m: cannot insert shoes, already exists"
          ]
        }
      ]
    },
    {
      "cell_type": "markdown",
      "metadata": {
        "id": "3CKXDUEmF8pH"
      },
      "source": [
        "Deleting Elements in DataFrame.\n",
        "* .pop() method only allows to delete Columns\n",
        "* .drop() method can be used to delete both rows and columns by use of axis keyword."
      ]
    },
    {
      "cell_type": "code",
      "metadata": {
        "colab": {
          "base_uri": "https://localhost:8080/"
        },
        "id": "80X5KUP5Fef5",
        "outputId": "9da04ace-e67f-4574-86da-3b9cd0aa5941"
      },
      "source": [
        "print(store_items)\n",
        "print()\n",
        "print(store_items.pop('watches'))\n",
        "print()\n",
        "print(store_items)"
      ],
      "execution_count": null,
      "outputs": [
        {
          "output_type": "stream",
          "text": [
            "         pants  watches  shoes  glass  bikes  shirts  new watches\n",
            "store 1     30       35      8    NaN    NaN    20.0          NaN\n",
            "store 2      5       10      5   50.0   15.0     5.0         10.0\n",
            "srote 3     30       50      6    NaN   20.0     NaN         50.0\n",
            "\n",
            "store 1    35\n",
            "store 2    10\n",
            "srote 3    50\n",
            "Name: watches, dtype: int64\n",
            "\n",
            "         pants  shoes  glass  bikes  shirts  new watches\n",
            "store 1     30      8    NaN    NaN    20.0          NaN\n",
            "store 2      5      5   50.0   15.0     5.0         10.0\n",
            "srote 3     30      6    NaN   20.0     NaN         50.0\n"
          ],
          "name": "stdout"
        }
      ]
    },
    {
      "cell_type": "code",
      "metadata": {
        "id": "mllfRMMpGVxn",
        "colab": {
          "base_uri": "https://localhost:8080/"
        },
        "outputId": "fff6a6bb-7652-4399-e13a-82d8e57bad88"
      },
      "source": [
        "print(store_items)"
      ],
      "execution_count": null,
      "outputs": [
        {
          "output_type": "stream",
          "text": [
            "         bike  pants  watches  glass  bikes\n",
            "store 1  20.0     30       35    NaN    NaN\n",
            "store 2   NaN      5       10   50.0   15.0\n"
          ],
          "name": "stdout"
        }
      ]
    },
    {
      "cell_type": "code",
      "metadata": {
        "colab": {
          "base_uri": "https://localhost:8080/"
        },
        "id": "f7gFCKImNxBt",
        "outputId": "c983ca3c-56ad-469f-d435-ffd563e1913f"
      },
      "source": [
        "store_items = store_items.drop(['store 1'], axis = 0)\n",
        "print(store_items)"
      ],
      "execution_count": null,
      "outputs": [
        {
          "output_type": "stream",
          "text": [
            "         bike  pants  watches  glass  bikes\n",
            "store 2   NaN      5       10   50.0   15.0\n"
          ],
          "name": "stdout"
        }
      ]
    },
    {
      "cell_type": "markdown",
      "metadata": {
        "id": "21fDAwGc6hYw"
      },
      "source": [
        "Renaming row or column labels\n",
        "dataframe_name.rename()"
      ]
    },
    {
      "cell_type": "code",
      "metadata": {
        "id": "u1zQexolODf6",
        "colab": {
          "base_uri": "https://localhost:8080/"
        },
        "outputId": "147f0c60-bfc8-43b2-ddbc-a213075c1a59"
      },
      "source": [
        "import pandas as pd\n",
        "\n",
        "items2 = [\n",
        "          {'bike':20, 'pants':30, 'watches':35},\n",
        "          {'watches' : 10, 'glass':50, 'bikes':15, 'pants':5}                    \n",
        "]\n",
        "\n",
        "store_items = pd.DataFrame(items2)\n",
        "\n",
        "print(store_items)\n",
        "print()\n",
        "store_items = pd.DataFrame(items2, index = ['store 1','store 2'])\n",
        "print(store_items)"
      ],
      "execution_count": null,
      "outputs": [
        {
          "output_type": "stream",
          "text": [
            "   bike  pants  watches  glass  bikes\n",
            "0  20.0     30       35    NaN    NaN\n",
            "1   NaN      5       10   50.0   15.0\n",
            "\n",
            "         bike  pants  watches  glass  bikes\n",
            "store 1  20.0     30       35    NaN    NaN\n",
            "store 2   NaN      5       10   50.0   15.0\n"
          ],
          "name": "stdout"
        }
      ]
    },
    {
      "cell_type": "code",
      "metadata": {
        "colab": {
          "base_uri": "https://localhost:8080/"
        },
        "id": "rt76eamP60sR",
        "outputId": "ee056d3b-75e0-476b-bde7-94231a5a3b36"
      },
      "source": [
        "store_items = store_items.rename(columns={'bikes' : 'hats'})\n",
        "print(store_items)\n"
      ],
      "execution_count": null,
      "outputs": [
        {
          "output_type": "stream",
          "text": [
            "         bike  pants  watches  glass  hats\n",
            "store 1  20.0     30       35    NaN   NaN\n",
            "store 2   NaN      5       10   50.0  15.0\n"
          ],
          "name": "stdout"
        }
      ]
    },
    {
      "cell_type": "code",
      "metadata": {
        "colab": {
          "base_uri": "https://localhost:8080/"
        },
        "id": "ZcGnm0Ee7Ntv",
        "outputId": "1cd88d71-0290-4406-e254-46d09758650a"
      },
      "source": [
        "store_items = store_items.rename(index = {'store 2' : 'last store'})\n",
        "print(store_items)"
      ],
      "execution_count": null,
      "outputs": [
        {
          "output_type": "stream",
          "text": [
            "            bike  pants  watches  glass  hats\n",
            "store 1     20.0     30       35    NaN   NaN\n",
            "last store   NaN      5       10   50.0  15.0\n"
          ],
          "name": "stdout"
        }
      ]
    },
    {
      "cell_type": "markdown",
      "metadata": {
        "id": "k0qsMAUW7zPc"
      },
      "source": [
        "Making column to a row index"
      ]
    },
    {
      "cell_type": "code",
      "metadata": {
        "colab": {
          "base_uri": "https://localhost:8080/"
        },
        "id": "KeiK7VkH7j_3",
        "outputId": "ab98de5a-d75a-4589-a472-cdf376098402"
      },
      "source": [
        "store_items = store_items.set_index('hats')\n",
        "print(store_items)\n"
      ],
      "execution_count": null,
      "outputs": [
        {
          "output_type": "stream",
          "text": [
            "      bike  pants  watches  glass\n",
            "hats                             \n",
            "NaN   20.0     30       35    NaN\n",
            "15.0   NaN      5       10   50.0\n"
          ],
          "name": "stdout"
        }
      ]
    },
    {
      "cell_type": "markdown",
      "metadata": {
        "id": "Xge1gqjt9yeL"
      },
      "source": [
        "## NaN Values\n"
      ]
    },
    {
      "cell_type": "code",
      "metadata": {
        "colab": {
          "base_uri": "https://localhost:8080/"
        },
        "id": "QOydZ4Fg8H1h",
        "outputId": "747f642f-e223-4ad3-f17a-09471d6b7f0c"
      },
      "source": [
        "items2 = [ {'bikes' : 20, 'pants': 30, 'watches': 35, 'shirts': 15, 'shoes': 8, 'suits': 45},\n",
        "         {'watches': 10, 'glasses': 50, 'bikes': 15, 'pants': 5, 'shirts': 2, 'shoes': 5, 'suits': 7},\n",
        "         {'bikes': 20, 'pants': 30, 'watches': 35, 'glasses': 4, 'shoes': 10}         \n",
        "]\n",
        "\n",
        "store_items = pd.DataFrame(items2, index = ['store 1', 'store 2', 'store 3'])\n",
        "\n",
        "print(store_items)\n",
        "\n",
        "print()\n",
        "\n",
        "Total_items = store_items.size\n",
        "print('Total items in the store are ', Total_items)\n",
        "\n"
      ],
      "execution_count": null,
      "outputs": [
        {
          "output_type": "stream",
          "text": [
            "         bikes  pants  watches  shirts  shoes  suits  glasses\n",
            "store 1     20     30       35    15.0      8   45.0      NaN\n",
            "store 2     15      5       10     2.0      5    7.0     50.0\n",
            "store 3     20     30       35     NaN     10    NaN      4.0\n",
            "\n",
            "Total items in the store are  21\n"
          ],
          "name": "stdout"
        }
      ]
    },
    {
      "cell_type": "code",
      "metadata": {
        "colab": {
          "base_uri": "https://localhost:8080/"
        },
        "id": "IrhWeDZw_8q8",
        "outputId": "c8312e84-cfa4-43fb-801b-f16d4bbe35c5"
      },
      "source": [
        "x = store_items.isnull().sum().sum()\n",
        "print(x)"
      ],
      "execution_count": null,
      "outputs": [
        {
          "output_type": "stream",
          "text": [
            "3\n"
          ],
          "name": "stdout"
        }
      ]
    },
    {
      "cell_type": "code",
      "metadata": {
        "colab": {
          "base_uri": "https://localhost:8080/"
        },
        "id": "8WRkmcJTAODI",
        "outputId": "8ae08ab1-05af-4562-f1b4-41af721ee5b5"
      },
      "source": [
        "y = store_items.count().sum()\n",
        "print('Non NaN values are ', y)\n",
        "\n",
        "print()\n",
        "print('Total NaN counts are ', (Total_items - y))"
      ],
      "execution_count": null,
      "outputs": [
        {
          "output_type": "stream",
          "text": [
            "Non NaN values are  18\n",
            "\n",
            "Total NaN counts are  3\n"
          ],
          "name": "stdout"
        }
      ]
    },
    {
      "cell_type": "markdown",
      "metadata": {
        "id": "Xtnt-dTYCPoJ"
      },
      "source": [
        "Eliminate row or columns having NaN values.\n",
        "* DataFrame_name.dropna(axis)\n",
        "* To remove the elements having NaN, make 'inplace = True'"
      ]
    },
    {
      "cell_type": "code",
      "metadata": {
        "colab": {
          "base_uri": "https://localhost:8080/"
        },
        "id": "_rTVC0qOA1QC",
        "outputId": "323dc8ee-cc18-49d3-e354-aedfd14913f4"
      },
      "source": [
        "import pandas as pd\n",
        "items2 = [ {'bikes' : 20, 'pants': 30, 'watches': 35, 'shirts': 15, 'shoes': 8, 'suits': 45},\n",
        "         {'watches': 10, 'glasses': 50, 'bikes': 15, 'pants': 5, 'shirts': 2, 'shoes': 5, 'suits': 7},\n",
        "         {'bikes': 20, 'pants': 30, 'watches': 35, 'glasses': 4, 'shoes': 10}         \n",
        "]\n",
        "\n",
        "store_items = pd.DataFrame(items2, index = ['store 1', 'store 2', 'store 3'])\n",
        "\n",
        "print(store_items)\n",
        "\n",
        "print()\n",
        "\n",
        "Total_items = store_items.size\n",
        "print('Total items in the store are ', Total_items)"
      ],
      "execution_count": null,
      "outputs": [
        {
          "output_type": "stream",
          "text": [
            "         bikes  pants  watches  shirts  shoes  suits  glasses\n",
            "store 1     20     30       35    15.0      8   45.0      NaN\n",
            "store 2     15      5       10     2.0      5    7.0     50.0\n",
            "store 3     20     30       35     NaN     10    NaN      4.0\n",
            "\n",
            "Total items in the store are  21\n"
          ],
          "name": "stdout"
        }
      ]
    },
    {
      "cell_type": "code",
      "metadata": {
        "colab": {
          "base_uri": "https://localhost:8080/",
          "height": 77
        },
        "id": "AWB2HdfjChMp",
        "outputId": "09bc01fb-1e05-4e1b-d8ea-2ad86b37af76"
      },
      "source": [
        "store_items.dropna(axis = 0)"
      ],
      "execution_count": null,
      "outputs": [
        {
          "output_type": "execute_result",
          "data": {
            "text/html": [
              "<div>\n",
              "<style scoped>\n",
              "    .dataframe tbody tr th:only-of-type {\n",
              "        vertical-align: middle;\n",
              "    }\n",
              "\n",
              "    .dataframe tbody tr th {\n",
              "        vertical-align: top;\n",
              "    }\n",
              "\n",
              "    .dataframe thead th {\n",
              "        text-align: right;\n",
              "    }\n",
              "</style>\n",
              "<table border=\"1\" class=\"dataframe\">\n",
              "  <thead>\n",
              "    <tr style=\"text-align: right;\">\n",
              "      <th></th>\n",
              "      <th>bikes</th>\n",
              "      <th>pants</th>\n",
              "      <th>watches</th>\n",
              "      <th>shirts</th>\n",
              "      <th>shoes</th>\n",
              "      <th>suits</th>\n",
              "      <th>glasses</th>\n",
              "    </tr>\n",
              "  </thead>\n",
              "  <tbody>\n",
              "    <tr>\n",
              "      <th>store 2</th>\n",
              "      <td>15</td>\n",
              "      <td>5</td>\n",
              "      <td>10</td>\n",
              "      <td>2.0</td>\n",
              "      <td>5</td>\n",
              "      <td>7.0</td>\n",
              "      <td>50.0</td>\n",
              "    </tr>\n",
              "  </tbody>\n",
              "</table>\n",
              "</div>"
            ],
            "text/plain": [
              "         bikes  pants  watches  shirts  shoes  suits  glasses\n",
              "store 2     15      5       10     2.0      5    7.0     50.0"
            ]
          },
          "metadata": {
            "tags": []
          },
          "execution_count": 15
        }
      ]
    },
    {
      "cell_type": "code",
      "metadata": {
        "colab": {
          "base_uri": "https://localhost:8080/",
          "height": 136
        },
        "id": "A_Sne9FTCsbq",
        "outputId": "99864c6d-ba96-4fe4-85e7-21514c8bc738"
      },
      "source": [
        "store_items.dropna(axis = 1)"
      ],
      "execution_count": null,
      "outputs": [
        {
          "output_type": "execute_result",
          "data": {
            "text/html": [
              "<div>\n",
              "<style scoped>\n",
              "    .dataframe tbody tr th:only-of-type {\n",
              "        vertical-align: middle;\n",
              "    }\n",
              "\n",
              "    .dataframe tbody tr th {\n",
              "        vertical-align: top;\n",
              "    }\n",
              "\n",
              "    .dataframe thead th {\n",
              "        text-align: right;\n",
              "    }\n",
              "</style>\n",
              "<table border=\"1\" class=\"dataframe\">\n",
              "  <thead>\n",
              "    <tr style=\"text-align: right;\">\n",
              "      <th></th>\n",
              "      <th>bikes</th>\n",
              "      <th>pants</th>\n",
              "      <th>watches</th>\n",
              "      <th>shoes</th>\n",
              "    </tr>\n",
              "  </thead>\n",
              "  <tbody>\n",
              "    <tr>\n",
              "      <th>store 1</th>\n",
              "      <td>20</td>\n",
              "      <td>30</td>\n",
              "      <td>35</td>\n",
              "      <td>8</td>\n",
              "    </tr>\n",
              "    <tr>\n",
              "      <th>store 2</th>\n",
              "      <td>15</td>\n",
              "      <td>5</td>\n",
              "      <td>10</td>\n",
              "      <td>5</td>\n",
              "    </tr>\n",
              "    <tr>\n",
              "      <th>store 3</th>\n",
              "      <td>20</td>\n",
              "      <td>30</td>\n",
              "      <td>35</td>\n",
              "      <td>10</td>\n",
              "    </tr>\n",
              "  </tbody>\n",
              "</table>\n",
              "</div>"
            ],
            "text/plain": [
              "         bikes  pants  watches  shoes\n",
              "store 1     20     30       35      8\n",
              "store 2     15      5       10      5\n",
              "store 3     20     30       35     10"
            ]
          },
          "metadata": {
            "tags": []
          },
          "execution_count": 16
        }
      ]
    },
    {
      "cell_type": "markdown",
      "metadata": {
        "id": "SLJwZIVqL0gD"
      },
      "source": [
        "Replacing NaN values\n",
        "* .fillna() method\n",
        "* Using Forward or Back filling method\n",
        "* .interpolate(method ='', axis = )\n",
        "\n"
      ]
    },
    {
      "cell_type": "code",
      "metadata": {
        "id": "TjUY-rlyCwei",
        "colab": {
          "base_uri": "https://localhost:8080/"
        },
        "outputId": "ef03742b-bbc0-4ab9-87ee-b84958d55fbc"
      },
      "source": [
        "store_items.fillna(0, inplace=True)\n",
        "print(store_items)"
      ],
      "execution_count": null,
      "outputs": [
        {
          "output_type": "stream",
          "text": [
            "         bikes  pants  watches  shirts  shoes  suits  glasses\n",
            "store 1     20     30       35    15.0      8   45.0      0.0\n",
            "store 2     15      5       10     2.0      5    7.0     50.0\n",
            "store 3     20     30       35     0.0     10    0.0      4.0\n"
          ],
          "name": "stdout"
        }
      ]
    },
    {
      "cell_type": "code",
      "metadata": {
        "colab": {
          "base_uri": "https://localhost:8080/"
        },
        "id": "upL_fatkMJLC",
        "outputId": "21dee97e-1ad9-47b9-afe0-b7dbd861d28e"
      },
      "source": [
        "store_items.fillna(method = 'ffill', axis = 0, inplace = True)\n",
        "print(store_items)"
      ],
      "execution_count": null,
      "outputs": [
        {
          "output_type": "stream",
          "text": [
            "         bikes  pants  watches  shirts  shoes  suits  glasses\n",
            "store 1     20     30       35    15.0      8   45.0      NaN\n",
            "store 2     15      5       10     2.0      5    7.0     50.0\n",
            "store 3     20     30       35     2.0     10    7.0      4.0\n"
          ],
          "name": "stdout"
        }
      ]
    },
    {
      "cell_type": "markdown",
      "metadata": {
        "id": "6flbgIJ9Rcwo"
      },
      "source": [
        "Book Rating Exercise\n"
      ]
    },
    {
      "cell_type": "code",
      "metadata": {
        "id": "kXpWBmPfNMnC"
      },
      "source": [
        "import pandas as pd\n",
        "import numpy as np\n",
        "\n",
        "# Since we will be working with ratings, we will set the precision of our \n",
        "# dataframes to one decimal place.\n",
        "pd.set_option('precision', 1)\n",
        "\n",
        "# Create a Pandas DataFrame that contains the ratings some users have given to a\n",
        "# series of books. The ratings given are in the range from 1 to 5, with 5 being\n",
        "# the best score. The names of the books, the authors, and the ratings of each user\n",
        "# are given below:\n",
        "\n",
        "books = pd.Series(data = ['Great Expectations', 'Of Mice and Men', 'Romeo and Juliet', 'The Time Machine', 'Alice in Wonderland' ])\n",
        "authors = pd.Series(data = ['Charles Dickens', 'John Steinbeck', 'William Shakespeare', ' H. G. Wells', 'Lewis Carroll' ])\n",
        "\n",
        "user_1 = pd.Series(data = [3.2, np.nan ,2.5])\n",
        "user_2 = pd.Series(data = [5., 1.3, 4.0, 3.8])\n",
        "user_3 = pd.Series(data = [2.0, 2.3, np.nan, 4])\n",
        "user_4 = pd.Series(data = [4, 3.5, 4, 5, 4.2])\n",
        "\n",
        "# Users that have np.nan values means that the user has not yet rated that book.\n",
        "# Use the data above to create a Pandas DataFrame that has the following column\n",
        "# labels: 'Author', 'Book Title', 'User 1', 'User 2', 'User 3', 'User 4'. Let Pandas\n",
        "# automatically assign numerical row indices to the DataFrame. \n",
        "\n",
        "# Create a dictionary with the data given above\n",
        "dat = \n",
        "\n",
        "# Use the dictionary to create a Pandas DataFrame\n",
        "book_ratings = \n",
        "\n",
        "# If you created the dictionary correctly you should have a Pandas DataFrame\n",
        "# that has column labels: 'Author', 'Book Title', 'User 1', 'User 2', 'User 3',\n",
        "# 'User 4' and row indices 0 through 4.\n",
        "\n",
        "# Now replace all the NaN values in your DataFrame with the average rating in\n",
        "# each column. Replace the NaN values in place. HINT: you can use the fillna()\n",
        "# function with the keyword inplace = True, to do this. Write your code below:\n"
      ],
      "execution_count": null,
      "outputs": []
    },
    {
      "cell_type": "markdown",
      "metadata": {
        "id": "wsJ1LofObUDh"
      },
      "source": [
        "## Loading Data into a Pandas DataFrame\n",
        "* CSV is a very common format. \n",
        "* .read_csv() method can be used.\n",
        "* DataFrame_Name.head() : to look at the first 5 rows of data.\n",
        "\n"
      ]
    }
  ]
}