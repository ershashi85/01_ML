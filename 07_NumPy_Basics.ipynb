{
  "nbformat": 4,
  "nbformat_minor": 0,
  "metadata": {
    "colab": {
      "name": "NumPy_Basics.ipynb",
      "provenance": [],
      "collapsed_sections": []
    },
    "kernelspec": {
      "name": "python3",
      "display_name": "Python 3"
    },
    "language_info": {
      "name": "python"
    }
  },
  "cells": [
    {
      "cell_type": "markdown",
      "metadata": {
        "id": "G76rEPTYrCfV"
      },
      "source": [
        "#NumPy\n",
        "* *NumPy* stands for Numerical Python. Numpy provides python with an extensive math library.\n",
        "* NumPy ndarray are mutable.\n",
        "* ndarray can be sliced.\n",
        "\n",
        "##Why NumPy\n",
        "* Speed: When performing operations on large arrays NumPy can often perform several orders of magnitude faster than Python lists. Reasons are memory efficient and optimized algorithms used by NumPy for doing arithmetic, statistical, and linear algebra operations.\n",
        "\n",
        "* Mutlidimensional array: for representing *Vectors* and *Metrices*. *Data elements must be of a same type*. \n",
        "\n",
        "* Large number of optimized built-in mathematical functions. \n",
        "* Handle more data-types than python lists.\n"
      ]
    },
    {
      "cell_type": "markdown",
      "metadata": {
        "id": "4TsWBGcKuVuU"
      },
      "source": [
        "# Creating Array using numpy"
      ]
    },
    {
      "cell_type": "code",
      "metadata": {
        "colab": {
          "base_uri": "https://localhost:8080/"
        },
        "id": "02VvkBzNq5TO",
        "outputId": "2f6c940e-6896-40c4-d86f-4a1ad221865f"
      },
      "source": [
        "# import NumPy into Python\n",
        "import numpy as np\n",
        "\n",
        "# Create a 1D (Rank 1) ndarrays for integers only\n",
        "x = np.array([1,2,3,4,5])\n",
        "\n",
        "# Print ndarrays\n",
        "print('x = {}'.format(x))"
      ],
      "execution_count": null,
      "outputs": [
        {
          "output_type": "stream",
          "text": [
            "x = [1 2 3 4 5]\n"
          ],
          "name": "stdout"
        }
      ]
    },
    {
      "cell_type": "markdown",
      "metadata": {
        "id": "C6zvuI75vIon"
      },
      "source": [
        "# Some useful Terminology\n",
        "* Rank : 1D arrays refer as rank 1 arrays ... N-dimensional as rank N.\n",
        "* Shape : Number of Rows and Columns"
      ]
    },
    {
      "cell_type": "code",
      "metadata": {
        "colab": {
          "base_uri": "https://localhost:8080/"
        },
        "id": "2PQ6RI-8u5hX",
        "outputId": "79ed7289-0698-4ae7-f2d7-279a31bbdeb0"
      },
      "source": [
        "print('x has dimension: ', x.shape)\n",
        "print('x is an object of type : ', type(x))\n",
        "print(' The elements in x are of type', x.dtype)\n"
      ],
      "execution_count": null,
      "outputs": [
        {
          "output_type": "stream",
          "text": [
            "x has dimension:  (5,)\n",
            "x is an object of type :  <class 'numpy.ndarray'>\n",
            " The elements in x are of type int64\n"
          ],
          "name": "stdout"
        }
      ]
    },
    {
      "cell_type": "code",
      "metadata": {
        "colab": {
          "base_uri": "https://localhost:8080/"
        },
        "id": "eFaQ-uCV90ug",
        "outputId": "446dfb96-5116-4e34-8d12-680b5949248d"
      },
      "source": [
        "# Create rank 2 array\n",
        "Y = np.array([[1,2,3],[4,5,6],[7,8,9],[10,11,12]])\n",
        "\n",
        "print()\n",
        "print('Y has dimension', Y.shape)\n",
        "print('Y has total of {} elements'.format(Y.size))\n",
        "print('Y is an object of type', type(Y))\n",
        "print('The elements of Y are of type', Y.dtype)"
      ],
      "execution_count": null,
      "outputs": [
        {
          "output_type": "stream",
          "text": [
            "\n",
            "Y has dimension (4, 3)\n",
            "Y has total of 12 elements\n",
            "Y is an object of type <class 'numpy.ndarray'>\n",
            "The elements of Y are of type int64\n"
          ],
          "name": "stdout"
        }
      ]
    },
    {
      "cell_type": "code",
      "metadata": {
        "colab": {
          "base_uri": "https://localhost:8080/"
        },
        "id": "ui-3mbhVGlIK",
        "outputId": "62011862-6e28-4feb-d426-2a5b300db326"
      },
      "source": [
        "x = np.array([1,2,3])\n",
        "y = np.array([1.2, 2.0, 3.3])\n",
        "z = np.array([1,2.0,3])\n",
        "\n",
        "print('The elements in x are of type', x.dtype)\n",
        "print('The elements in y are of type', y.dtype)\n",
        "print('The elements in z are of type', z.dtype)"
      ],
      "execution_count": null,
      "outputs": [
        {
          "output_type": "stream",
          "text": [
            "The elements in x are of type int64\n",
            "The elements in y are of type float64\n",
            "The elements in z are of type float64\n"
          ],
          "name": "stdout"
        }
      ]
    },
    {
      "cell_type": "markdown",
      "metadata": {
        "id": "4irbss9ALamg"
      },
      "source": [
        "# Assigning particular data-type to array"
      ]
    },
    {
      "cell_type": "code",
      "metadata": {
        "colab": {
          "base_uri": "https://localhost:8080/"
        },
        "id": "rL3dppVYHYk6",
        "outputId": "a992f31a-cfa7-4011-cb13-11f26a1a6920"
      },
      "source": [
        "x = np.array([1.5, 2.2, 3.0, 4.99], dtype = np.int64)\n",
        "\n",
        "print('The elements in x are of type', x.dtype)\n",
        "print(x)"
      ],
      "execution_count": null,
      "outputs": [
        {
          "output_type": "stream",
          "text": [
            "The elements in x are of type int64\n",
            "[1 2 3 4]\n"
          ],
          "name": "stdout"
        }
      ]
    },
    {
      "cell_type": "markdown",
      "metadata": {
        "id": "llvk1DMzMDkI"
      },
      "source": [
        "# Storing array into a file and load operation"
      ]
    },
    {
      "cell_type": "code",
      "metadata": {
        "colab": {
          "base_uri": "https://localhost:8080/"
        },
        "id": "Ppn7zrXoL2Bj",
        "outputId": "34ca0a18-e77c-44d0-c237-bc5661dacc1a"
      },
      "source": [
        "x = np.array([1,2,3,4,5], dtype = np.int64)\n",
        "\n",
        "# Saving into the current directory\n",
        "np.save('my_array', x)\n",
        "\n",
        "y = np.load('my_array.npy')\n",
        "\n",
        "print('y is an object of type: ', type(y))\n",
        "print('The elements in y are of type:', y.dtype)\n"
      ],
      "execution_count": null,
      "outputs": [
        {
          "output_type": "stream",
          "text": [
            "y is an object of type:  <class 'numpy.ndarray'>\n",
            "The elements in y are of type: int64\n"
          ],
          "name": "stdout"
        }
      ]
    },
    {
      "cell_type": "markdown",
      "metadata": {
        "id": "2gi1XBhdPAut"
      },
      "source": [
        "# Built-in Functions\n"
      ]
    },
    {
      "cell_type": "markdown",
      "metadata": {
        "id": "CHzD2eHNPGto"
      },
      "source": [
        "## **Zeros**\n",
        "np.zeros(shape)"
      ]
    },
    {
      "cell_type": "code",
      "metadata": {
        "colab": {
          "base_uri": "https://localhost:8080/"
        },
        "id": "Be4eJ93uNlOk",
        "outputId": "6eb70ee3-bea7-44eb-9f14-51abc4578aeb"
      },
      "source": [
        "x = np.zeros((2,3))\n",
        "\n",
        "print('x has dimension: ', x.shape)\n",
        "print('x is an object of type', type(x))\n",
        "print('The element in x are of type', x.dtype)\n",
        "print(x)"
      ],
      "execution_count": null,
      "outputs": [
        {
          "output_type": "stream",
          "text": [
            "x has dimension:  (2, 3)\n",
            "x is an object of type <class 'numpy.ndarray'>\n",
            "The element in x are of type float64\n",
            "[[0. 0. 0.]\n",
            " [0. 0. 0.]]\n"
          ],
          "name": "stdout"
        }
      ]
    },
    {
      "cell_type": "markdown",
      "metadata": {
        "id": "ErfTHxLTQPxT"
      },
      "source": [
        "## Ones\n",
        "np.ones(shape)"
      ]
    },
    {
      "cell_type": "code",
      "metadata": {
        "colab": {
          "base_uri": "https://localhost:8080/"
        },
        "id": "cFOa_4rJP8Xb",
        "outputId": "34cbf09f-7f2b-4b21-d37e-6adba16c8fc5"
      },
      "source": [
        "y = np.ones((5,3))\n",
        "\n",
        "print('The Dimension of y is: ', y.shape)\n",
        "print('y is an object of type : ', type(y))\n",
        "print('The elements in y are of type : ', y.dtype)\n",
        "print(y)"
      ],
      "execution_count": null,
      "outputs": [
        {
          "output_type": "stream",
          "text": [
            "The Dimension of y is:  (5, 3)\n",
            "y is an object of type :  <class 'numpy.ndarray'>\n",
            "The elements in y are of type :  float64\n",
            "[[1. 1. 1.]\n",
            " [1. 1. 1.]\n",
            " [1. 1. 1.]\n",
            " [1. 1. 1.]\n",
            " [1. 1. 1.]]\n"
          ],
          "name": "stdout"
        }
      ]
    },
    {
      "cell_type": "markdown",
      "metadata": {
        "id": "NdC-Y0zURDjl"
      },
      "source": [
        "## ndarray of a Specified Number\n",
        "np.full(shape)"
      ]
    },
    {
      "cell_type": "code",
      "metadata": {
        "id": "7K7zNn-ARBd5",
        "colab": {
          "base_uri": "https://localhost:8080/"
        },
        "outputId": "66c1faaa-e486-4bd6-e558-f4cc6ce1d4a2"
      },
      "source": [
        "x = np.full((2,3),5)\n",
        "\n",
        "print(x)"
      ],
      "execution_count": null,
      "outputs": [
        {
          "output_type": "stream",
          "text": [
            "[[5 5 5]\n",
            " [5 5 5]]\n"
          ],
          "name": "stdout"
        }
      ]
    },
    {
      "cell_type": "markdown",
      "metadata": {
        "id": "X6E9_3igZACN"
      },
      "source": [
        "## Other Useful Functions\n",
        " 1. Identity matrix : Create square matrix that has 1s in the diagonal matrix and zeros eleswhere.\n",
        "    * Syntax: np.eye(num) \n",
        "\n",
        " 2. Diagonal matrix : Create matrix with the desired diagonal values.\n",
        "  * Syntax : np.diag([list])\n",
        "\n",
        " 3. Range matrix : Create matrix of the range given as an input.\n",
        "  * Syntax : np.arange(start,stop,step)\n",
        "  * Array will be created for elements from start having evenly spaced as per the steps but exlude stop.\n",
        "\n",
        " 4. Range with non-integer steps : Create matrix with non-integer steps.\n",
        "  * Syntax : np.linspace(start, stop, N) \n",
        "    * Matrix creation done using start and stop input with space evenly distributed as per N. N is number of elements and not the steps. Both start and stop values are inlcuded for creating the matrix. \n",
        "    keyword 'endpoint = false' can be used to exclude the endpoint like an arange function.\n",
        "    This function needs minimum start and stop input to create matrix and creates default N = 50 elements of the matrix array.\n",
        " \n",
        " 5. Creating Rank 2 array : reshape function\n",
        "  * Syntax : np.arrange(shape).reshape(new_shape) \n",
        "  \n",
        " 6. Creating ndarray of random values (Floats) : random function\n",
        "  * Syntax : np.random.random(shape) \n",
        "   creates an ndarray of the given shape with random floats in the half-open interval.\n",
        "\n",
        " 7. Creating ndarray of random values (Integer) \n",
        "  * Syntax : np.random.randint(start, stop, size = shape)\n",
        "  \n",
        "\n",
        "\n",
        "\n",
        "\n",
        "\n",
        "\n"
      ]
    },
    {
      "cell_type": "markdown",
      "metadata": {
        "id": "eXZCy1YkjtK9"
      },
      "source": [
        "## Accessing or Modifying elements in ndarray\n",
        "  * The elements of the ndarray can be accessed or mdofiied by indexing.\n",
        "  Elements can be accessed using indices inside square brackets []. Both positive and negative indices to access elements. Positive indices to access elements from the beginning and negative indices to access elements from the end."
      ]
    },
    {
      "cell_type": "markdown",
      "metadata": {
        "id": "T-dBwcS1kvDY"
      },
      "source": [
        "## Deleting elements in ndarrays\n",
        "  * Elements can be deleted in ndarray using delete function.\n",
        "  * Syntax : np.delete(ndarray, elements, axis) \n",
        "    * axis = 0 -> row ; axis = 1 -> column\n",
        "\n",
        "## Append to add row or column in ndarrays at the end\n",
        "  * Syntax : np.append(ndarray, elements, axis)\n",
        "\n",
        "## Insert elements to particular index\n",
        "  * Syntax : np.insert(ndarray, index, elements, axis)\n",
        "\n",
        "## Stacking ndarray\n",
        "  * Syntax : Horizontal stacking \"np.hstack((ndarray1, ndarray2))\"\n",
        "  * Syntax : Vertical stack \" np.vstack((ndarray1, ndarray2)) \"\n",
        "  * The shape of both ndarray must match.  \n"
      ]
    },
    {
      "cell_type": "markdown",
      "metadata": {
        "id": "1Z_0Jz1fqroB"
      },
      "source": [
        "## Slicing ndarrays\n",
        "* for accessing subset of ndarrays.\n",
        "* used colon ':' inside square bracket. \n",
        "* Slicing does not create a new ndarray, but it only creates a view of the original array. Thus a change in a slicing array also result in change in a original ndarray.\n",
        "* np.copy() function is avaialble to create a new ndarray from existing one.\n"
      ]
    },
    {
      "cell_type": "code",
      "metadata": {
        "id": "HvcZhEvaY_Wm",
        "colab": {
          "base_uri": "https://localhost:8080/"
        },
        "outputId": "a649daae-beb6-4633-b75c-ba1e1282c889"
      },
      "source": [
        "import numpy as np\n",
        "\n",
        "x = np.arange(25).reshape(5,5)\n",
        "\n",
        "print('Original x = ', x)\n",
        "print()\n",
        "# Accessing an element in ndarray\n",
        "\n",
        "print('First element of x is = ', x[0,0])\n",
        "print('First row of x is = ', x[0])\n",
        "print('First column of x is = ', x[:,0])\n",
        "print('Last element of x is = ', x[-1,-1])\n",
        "print('Last row of x is = ', x[-1])\n",
        "print('Last column of x is = ', x[:,-1])\n",
        "\n",
        "print()\n",
        "\n",
        "# Modifying an element in ndarray\n",
        "\n",
        "x[0,0] = 221\n",
        "print('First element of x is modified to = ', x[0,0])\n",
        "print('x modified to = ', x)\n",
        "\n",
        "x[0] = 221\n",
        "print('First row of x is modified to = ', x[0])\n",
        "print('After modifying first row, x = ', x)\n",
        "\n",
        "\n",
        "# Deleting an element in ndarray\n",
        "\n",
        "print()\n",
        "\n",
        "x = np.delete(x, 0, axis = 0)\n",
        "\n",
        "print('After deletion of first row in x = ', x)\n",
        "\n",
        "x = np.delete(x, [0,2], axis = 0)\n",
        "print('Attempt to delete rows 0 and 1 ', x)\n",
        "\n",
        "# Apend elements to ndarray\n",
        "x = np.append(x, [range(5)], axis = 0)\n",
        "print('After apend elements in x = ', x)\n",
        "\n",
        "x = np.append(x, np.arange(3).reshape(3,1), axis = 1)\n",
        "print('After append a column in x is = ', x)\n",
        "\n",
        "# Insert elements in ndarray\n",
        "x = np.insert(x,[1], range(5,11), axis = 0)\n",
        "print()\n",
        "print('x after inserting elements is = ', x)"
      ],
      "execution_count": null,
      "outputs": [
        {
          "output_type": "stream",
          "text": [
            "Original x =  [[ 0  1  2  3  4]\n",
            " [ 5  6  7  8  9]\n",
            " [10 11 12 13 14]\n",
            " [15 16 17 18 19]\n",
            " [20 21 22 23 24]]\n",
            "\n",
            "First element of x is =  0\n",
            "First row of x is =  [0 1 2 3 4]\n",
            "First column of x is =  [ 0  5 10 15 20]\n",
            "Last element of x is =  24\n",
            "Last row of x is =  [20 21 22 23 24]\n",
            "Last column of x is =  [ 4  9 14 19 24]\n",
            "\n",
            "First element of x is modified to =  221\n",
            "x modified to =  [[221   1   2   3   4]\n",
            " [  5   6   7   8   9]\n",
            " [ 10  11  12  13  14]\n",
            " [ 15  16  17  18  19]\n",
            " [ 20  21  22  23  24]]\n",
            "First row of x is modified to =  [221 221 221 221 221]\n",
            "After modifying first row, x =  [[221 221 221 221 221]\n",
            " [  5   6   7   8   9]\n",
            " [ 10  11  12  13  14]\n",
            " [ 15  16  17  18  19]\n",
            " [ 20  21  22  23  24]]\n",
            "\n",
            "After deletion of first row in x =  [[ 5  6  7  8  9]\n",
            " [10 11 12 13 14]\n",
            " [15 16 17 18 19]\n",
            " [20 21 22 23 24]]\n",
            "Attempt to delete rows 0 and 1  [[10 11 12 13 14]\n",
            " [20 21 22 23 24]]\n",
            "After apend elements in x =  [[10 11 12 13 14]\n",
            " [20 21 22 23 24]\n",
            " [ 0  1  2  3  4]]\n",
            "After append a column in x is =  [[10 11 12 13 14  0]\n",
            " [20 21 22 23 24  1]\n",
            " [ 0  1  2  3  4  2]]\n",
            "\n",
            "x after inserting elements is =  [[10 11 12 13 14  0]\n",
            " [ 5  6  7  8  9 10]\n",
            " [20 21 22 23 24  1]\n",
            " [ 0  1  2  3  4  2]]\n"
          ],
          "name": "stdout"
        }
      ]
    },
    {
      "cell_type": "markdown",
      "metadata": {
        "id": "6jNpVserDeq-"
      },
      "source": [
        "## Boolean operation on ndarrays\n"
      ]
    },
    {
      "cell_type": "markdown",
      "metadata": {
        "id": "mHfh3duYLUsi"
      },
      "source": [
        "### Boolean operation"
      ]
    },
    {
      "cell_type": "code",
      "metadata": {
        "id": "gDVQa9lHQEoh",
        "colab": {
          "base_uri": "https://localhost:8080/"
        },
        "outputId": "1553b026-a6fd-4908-e330-e30a9b7f230e"
      },
      "source": [
        "print('origianl ndarray x = ', x)\n",
        "print()\n",
        "print('\\n')\n",
        "print('Elements in x greater than 10 are = ', x[x > 10])\n",
        "\n",
        "print()\n",
        "\n",
        "print('Elements in x > 15 & x <= 20 are = ', x[(x > 15) & (x <= 20)])\n",
        "\n",
        "x[(x >15) & (x <= 22)] = 45\n",
        "\n",
        "print()\n",
        "print('Element in range 15-22 changed to 45 and x = \\n', x)"
      ],
      "execution_count": null,
      "outputs": [
        {
          "output_type": "stream",
          "text": [
            "origianl ndarray x =  [[10 11 12 13 14  0]\n",
            " [ 5  6  7  8  9 10]\n",
            " [45 45 45 23 24  1]\n",
            " [ 0  1  2  3  4  2]]\n",
            "\n",
            "\n",
            "\n",
            "Elements in x greater than 10 are =  [11 12 13 14 45 45 45 23 24]\n",
            "\n",
            "Elements in x > 15 & x <= 20 are =  []\n",
            "\n",
            "Element in range 15-22 changed to 45 and x = \n",
            " [[10 11 12 13 14  0]\n",
            " [ 5  6  7  8  9 10]\n",
            " [45 45 45 23 24  1]\n",
            " [ 0  1  2  3  4  2]]\n"
          ],
          "name": "stdout"
        }
      ]
    },
    {
      "cell_type": "markdown",
      "metadata": {
        "id": "4iJHVh5oLct7"
      },
      "source": [
        "### Comparing ndarrays"
      ]
    },
    {
      "cell_type": "code",
      "metadata": {
        "colab": {
          "base_uri": "https://localhost:8080/"
        },
        "id": "xtJJ40-aI5fn",
        "outputId": "ca900569-c282-4f9a-c4de-99e389136c9b"
      },
      "source": [
        "x = np.array([1,2,3,4,5])\n",
        "y = np.array([6,7,2,5,4])\n",
        "\n",
        "print('x = \\n', x)\n",
        "print()\n",
        "print('y = \\n', y)\n",
        "print()\n",
        "\n",
        "print('The elements that are both in x and y : ', np.intersect1d(x, y))\n",
        "print()\n",
        "print('The elements that are in x but not in y : ', np.setdiff1d(x,y))\n",
        "print()\n",
        "print('All the elements of x and y : ', np.union1d(x, y))\n"
      ],
      "execution_count": null,
      "outputs": [
        {
          "output_type": "stream",
          "text": [
            "x = \n",
            " [1 2 3 4 5]\n",
            "\n",
            "y = \n",
            " [6 7 2 5 4]\n",
            "\n",
            "The elements that are both in x and y :  [2 4 5]\n",
            "\n",
            "The elements that are in x but not in y :  [1 3]\n",
            "\n",
            "All the elements of x and y :  [1 2 3 4 5 6 7]\n"
          ],
          "name": "stdout"
        }
      ]
    },
    {
      "cell_type": "markdown",
      "metadata": {
        "id": "Acao10FhNTOc"
      },
      "source": [
        "### sorting ndarray"
      ]
    },
    {
      "cell_type": "code",
      "metadata": {
        "colab": {
          "base_uri": "https://localhost:8080/"
        },
        "id": "CoRoAtG5M1Jq",
        "outputId": "2cc7db5a-a946-4089-f60d-f1d9ba91b864"
      },
      "source": [
        "x = np.random.randint(25,88,20)\n",
        "print(x)\n",
        "\n",
        "print()\n",
        "print('Sorted x (out of place): ', np.sort(x))\n",
        "\n",
        "print()\n",
        "\n",
        "print('ndarray x after np.sort(x) is = \\n ', x)\n",
        "\n",
        "print()\n",
        "\n",
        "print('Sort operation on x = ', x.sort())\n",
        "\n",
        "print()\n",
        "\n",
        "print('ndarray after x.sort() is : \\n', x)"
      ],
      "execution_count": null,
      "outputs": [
        {
          "output_type": "stream",
          "text": [
            "[46 38 43 59 52 56 81 70 25 69 29 85 67 67 54 78 69 54 56 71]\n",
            "\n",
            "Sorted x (out of place):  [25 29 38 43 46 52 54 54 56 56 59 67 67 69 69 70 71 78 81 85]\n",
            "\n",
            "ndarray x after np.sort(x) is = \n",
            "  [46 38 43 59 52 56 81 70 25 69 29 85 67 67 54 78 69 54 56 71]\n",
            "\n",
            "Sort operation on x =  None\n",
            "\n",
            "ndarray after x.sort() is : \n",
            " [25 29 38 43 46 52 54 54 56 56 59 67 67 69 69 70 71 78 81 85]\n"
          ],
          "name": "stdout"
        }
      ]
    },
    {
      "cell_type": "markdown",
      "metadata": {
        "id": "Q5Qfw6Y9Ri0S"
      },
      "source": [
        "### Pick odd example"
      ]
    },
    {
      "cell_type": "code",
      "metadata": {
        "colab": {
          "base_uri": "https://localhost:8080/"
        },
        "id": "BoYkCMsUPa27",
        "outputId": "b305a96e-a9c1-4101-cd7a-78f01fcc577a"
      },
      "source": [
        "x = np.arange(1,26).reshape(5,5)\n",
        "print(x)\n",
        "\n",
        "print()\n",
        "\n",
        "print('Odd valuea in x are = ', x[x % 2 != 0])\n"
      ],
      "execution_count": null,
      "outputs": [
        {
          "output_type": "stream",
          "text": [
            "[[ 1  2  3  4  5]\n",
            " [ 6  7  8  9 10]\n",
            " [11 12 13 14 15]\n",
            " [16 17 18 19 20]\n",
            " [21 22 23 24 25]]\n",
            "\n",
            "Odd valuea in x are =  [ 1  3  5  7  9 11 13 15 17 19 21 23 25]\n"
          ],
          "name": "stdout"
        }
      ]
    },
    {
      "cell_type": "markdown",
      "metadata": {
        "id": "O1U33adzUr0p"
      },
      "source": [
        "## Arithmetic operations and Broadcasting\n",
        "* Elements wise operation as well as matrix operations are possible.\n",
        "* Broadcasting method is used for the elements wise operations on ndarrays of different shapes.\n",
        "* np.add() or '+', np.subtract() or '-', np.multiply() or '*', np.divide() or '/'\n",
        "* Some other functions are : Squareroot, exponential, power to.\n",
        "* np.sqrt(), np.exp(), np.power()\n",
        "\n",
        "\n"
      ]
    },
    {
      "cell_type": "code",
      "metadata": {
        "id": "Q2ro52MeRsip"
      },
      "source": [
        ""
      ],
      "execution_count": null,
      "outputs": []
    }
  ]
}